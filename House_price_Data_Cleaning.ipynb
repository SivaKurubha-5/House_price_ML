{
 "cells": [
  {
   "cell_type": "code",
   "execution_count": 1,
   "id": "384cb7b3-ec46-4203-8b50-f1082d5a094a",
   "metadata": {},
   "outputs": [],
   "source": [
    "#importing libraries\n",
    "\n",
    "import pandas as pd\n",
    "import numpy as np\n",
    "import matplotlib.pyplot as plt\n",
    "import seaborn as sns"
   ]
  },
  {
   "cell_type": "code",
   "execution_count": 2,
   "id": "e31b3050-0fbb-4adb-a0f5-b0235d293770",
   "metadata": {},
   "outputs": [],
   "source": [
    "# importing house_price data\n",
    "\n",
    "Data = pd.read_csv(\"house_prices.csv\")"
   ]
  },
  {
   "cell_type": "code",
   "execution_count": 3,
   "id": "7886c928-8418-4460-8eb4-5974ecbf0525",
   "metadata": {},
   "outputs": [
    {
     "data": {
      "text/html": [
       "<div>\n",
       "<style scoped>\n",
       "    .dataframe tbody tr th:only-of-type {\n",
       "        vertical-align: middle;\n",
       "    }\n",
       "\n",
       "    .dataframe tbody tr th {\n",
       "        vertical-align: top;\n",
       "    }\n",
       "\n",
       "    .dataframe thead th {\n",
       "        text-align: right;\n",
       "    }\n",
       "</style>\n",
       "<table border=\"1\" class=\"dataframe\">\n",
       "  <thead>\n",
       "    <tr style=\"text-align: right;\">\n",
       "      <th></th>\n",
       "      <th>Index</th>\n",
       "      <th>Title</th>\n",
       "      <th>Description</th>\n",
       "      <th>Amount(in rupees)</th>\n",
       "      <th>Price (in rupees)</th>\n",
       "      <th>location</th>\n",
       "      <th>Carpet Area</th>\n",
       "      <th>Status</th>\n",
       "      <th>Floor</th>\n",
       "      <th>Transaction</th>\n",
       "      <th>...</th>\n",
       "      <th>facing</th>\n",
       "      <th>overlooking</th>\n",
       "      <th>Society</th>\n",
       "      <th>Bathroom</th>\n",
       "      <th>Balcony</th>\n",
       "      <th>Car Parking</th>\n",
       "      <th>Ownership</th>\n",
       "      <th>Super Area</th>\n",
       "      <th>Dimensions</th>\n",
       "      <th>Plot Area</th>\n",
       "    </tr>\n",
       "  </thead>\n",
       "  <tbody>\n",
       "    <tr>\n",
       "      <th>0</th>\n",
       "      <td>0</td>\n",
       "      <td>1 BHK Ready to Occupy Flat for sale in Srushti...</td>\n",
       "      <td>Bhiwandi, Thane has an attractive 1 BHK Flat f...</td>\n",
       "      <td>42 Lac</td>\n",
       "      <td>6000.0</td>\n",
       "      <td>thane</td>\n",
       "      <td>500 sqft</td>\n",
       "      <td>Ready to Move</td>\n",
       "      <td>10 out of 11</td>\n",
       "      <td>Resale</td>\n",
       "      <td>...</td>\n",
       "      <td>NaN</td>\n",
       "      <td>NaN</td>\n",
       "      <td>Srushti Siddhi Mangal Murti Complex</td>\n",
       "      <td>1</td>\n",
       "      <td>2</td>\n",
       "      <td>NaN</td>\n",
       "      <td>NaN</td>\n",
       "      <td>NaN</td>\n",
       "      <td>NaN</td>\n",
       "      <td>NaN</td>\n",
       "    </tr>\n",
       "    <tr>\n",
       "      <th>1</th>\n",
       "      <td>1</td>\n",
       "      <td>2 BHK Ready to Occupy Flat for sale in Dosti V...</td>\n",
       "      <td>One can find this stunning 2 BHK flat for sale...</td>\n",
       "      <td>98 Lac</td>\n",
       "      <td>13799.0</td>\n",
       "      <td>thane</td>\n",
       "      <td>473 sqft</td>\n",
       "      <td>Ready to Move</td>\n",
       "      <td>3 out of 22</td>\n",
       "      <td>Resale</td>\n",
       "      <td>...</td>\n",
       "      <td>East</td>\n",
       "      <td>Garden/Park</td>\n",
       "      <td>Dosti Vihar</td>\n",
       "      <td>2</td>\n",
       "      <td>NaN</td>\n",
       "      <td>1 Open</td>\n",
       "      <td>Freehold</td>\n",
       "      <td>NaN</td>\n",
       "      <td>NaN</td>\n",
       "      <td>NaN</td>\n",
       "    </tr>\n",
       "  </tbody>\n",
       "</table>\n",
       "<p>2 rows × 21 columns</p>\n",
       "</div>"
      ],
      "text/plain": [
       "   Index                                              Title  \\\n",
       "0      0  1 BHK Ready to Occupy Flat for sale in Srushti...   \n",
       "1      1  2 BHK Ready to Occupy Flat for sale in Dosti V...   \n",
       "\n",
       "                                         Description Amount(in rupees)  \\\n",
       "0  Bhiwandi, Thane has an attractive 1 BHK Flat f...           42 Lac    \n",
       "1  One can find this stunning 2 BHK flat for sale...           98 Lac    \n",
       "\n",
       "   Price (in rupees) location Carpet Area         Status         Floor  \\\n",
       "0             6000.0    thane    500 sqft  Ready to Move  10 out of 11   \n",
       "1            13799.0    thane    473 sqft  Ready to Move   3 out of 22   \n",
       "\n",
       "  Transaction  ... facing  overlooking                              Society  \\\n",
       "0      Resale  ...    NaN          NaN  Srushti Siddhi Mangal Murti Complex   \n",
       "1      Resale  ...   East  Garden/Park                          Dosti Vihar   \n",
       "\n",
       "  Bathroom Balcony Car Parking Ownership Super Area Dimensions  Plot Area  \n",
       "0        1       2         NaN       NaN        NaN        NaN        NaN  \n",
       "1        2     NaN      1 Open  Freehold        NaN        NaN        NaN  \n",
       "\n",
       "[2 rows x 21 columns]"
      ]
     },
     "execution_count": 3,
     "metadata": {},
     "output_type": "execute_result"
    }
   ],
   "source": [
    "# coping the data\n",
    "\n",
    "data = Data.copy()\n",
    "data.head(2)"
   ]
  },
  {
   "cell_type": "code",
   "execution_count": 4,
   "id": "be2f2540-974c-4334-a349-a25de63903bd",
   "metadata": {},
   "outputs": [
    {
     "data": {
      "text/plain": [
       "(187531, 21)"
      ]
     },
     "execution_count": 4,
     "metadata": {},
     "output_type": "execute_result"
    }
   ],
   "source": [
    "# checking data shape - (rows X columns)\n",
    "\n",
    "data.shape"
   ]
  },
  {
   "cell_type": "code",
   "execution_count": 5,
   "id": "5b6ebbfb-9918-465a-afe4-78d9a4915c96",
   "metadata": {},
   "outputs": [
    {
     "name": "stdout",
     "output_type": "stream",
     "text": [
      "<class 'pandas.core.frame.DataFrame'>\n",
      "RangeIndex: 187531 entries, 0 to 187530\n",
      "Data columns (total 21 columns):\n",
      " #   Column             Non-Null Count   Dtype  \n",
      "---  ------             --------------   -----  \n",
      " 0   Index              187531 non-null  int64  \n",
      " 1   Title              187531 non-null  object \n",
      " 2   Description        184508 non-null  object \n",
      " 3   Amount(in rupees)  187531 non-null  object \n",
      " 4   Price (in rupees)  169866 non-null  float64\n",
      " 5   location           187531 non-null  object \n",
      " 6   Carpet Area        106858 non-null  object \n",
      " 7   Status             186916 non-null  object \n",
      " 8   Floor              180454 non-null  object \n",
      " 9   Transaction        187448 non-null  object \n",
      " 10  Furnishing         184634 non-null  object \n",
      " 11  facing             117298 non-null  object \n",
      " 12  overlooking        106095 non-null  object \n",
      " 13  Society            77853 non-null   object \n",
      " 14  Bathroom           186703 non-null  object \n",
      " 15  Balcony            138596 non-null  object \n",
      " 16  Car Parking        84174 non-null   object \n",
      " 17  Ownership          122014 non-null  object \n",
      " 18  Super Area         79846 non-null   object \n",
      " 19  Dimensions         0 non-null       float64\n",
      " 20  Plot Area          0 non-null       float64\n",
      "dtypes: float64(3), int64(1), object(17)\n",
      "memory usage: 30.0+ MB\n"
     ]
    }
   ],
   "source": [
    "# Information about Raw data Each column  - (Non_null count,dtype)\n",
    "\n",
    "data.info()"
   ]
  },
  {
   "cell_type": "code",
   "execution_count": 6,
   "id": "4c15d684-0be3-414b-abaf-51d8353a6f62",
   "metadata": {},
   "outputs": [
    {
     "data": {
      "text/plain": [
       "Index                  0.000000\n",
       "Title                  0.000000\n",
       "Description            1.612000\n",
       "Amount(in rupees)      0.000000\n",
       "Price (in rupees)      9.419776\n",
       "location               0.000000\n",
       "Carpet Area           43.018488\n",
       "Status                 0.327946\n",
       "Floor                  3.773776\n",
       "Transaction            0.044259\n",
       "Furnishing             1.544811\n",
       "facing                37.451408\n",
       "overlooking           43.425354\n",
       "Society               58.485264\n",
       "Bathroom               0.441527\n",
       "Balcony               26.094352\n",
       "Car Parking           55.114621\n",
       "Ownership             34.936624\n",
       "Super Area            57.422506\n",
       "Dimensions           100.000000\n",
       "Plot Area            100.000000\n",
       "dtype: float64"
      ]
     },
     "execution_count": 6,
     "metadata": {},
     "output_type": "execute_result"
    }
   ],
   "source": [
    "# checking for null values percentage count in each column\n",
    "\n",
    "data.isna().sum()* 100 / len(data)"
   ]
  },
  {
   "cell_type": "markdown",
   "id": "31788aa0-7ef4-4388-98db-e237095f34d5",
   "metadata": {},
   "source": [
    "# Data Cleaning"
   ]
  },
  {
   "cell_type": "code",
   "execution_count": 7,
   "id": "cf5afa03-2766-4300-b00c-c48333be2c70",
   "metadata": {},
   "outputs": [
    {
     "data": {
      "text/plain": [
       "(187531, 19)"
      ]
     },
     "execution_count": 7,
     "metadata": {},
     "output_type": "execute_result"
    }
   ],
   "source": [
    "# removeing  unnecessary columns\n",
    "# Inorder to clear unambiguity between rows\n",
    "\n",
    "data.drop([\"Index\",'Description'],axis = 1,inplace= True)\n",
    "data.shape"
   ]
  },
  {
   "cell_type": "code",
   "execution_count": 8,
   "id": "665d28ce-0ca2-4f07-b9ea-0321c5fcfdc7",
   "metadata": {
    "scrolled": true
   },
   "outputs": [
    {
     "data": {
      "text/plain": [
       "(120426, 19)"
      ]
     },
     "execution_count": 8,
     "metadata": {},
     "output_type": "execute_result"
    }
   ],
   "source": [
    "# checking for duplicate rows\n",
    "\n",
    "data[data.duplicated() == True].shape"
   ]
  },
  {
   "cell_type": "code",
   "execution_count": 9,
   "id": "6104e0e6-a143-4f74-8ad0-9c0d1b2b0fc7",
   "metadata": {
    "scrolled": true
   },
   "outputs": [
    {
     "data": {
      "text/html": [
       "<div>\n",
       "<style scoped>\n",
       "    .dataframe tbody tr th:only-of-type {\n",
       "        vertical-align: middle;\n",
       "    }\n",
       "\n",
       "    .dataframe tbody tr th {\n",
       "        vertical-align: top;\n",
       "    }\n",
       "\n",
       "    .dataframe thead th {\n",
       "        text-align: right;\n",
       "    }\n",
       "</style>\n",
       "<table border=\"1\" class=\"dataframe\">\n",
       "  <thead>\n",
       "    <tr style=\"text-align: right;\">\n",
       "      <th></th>\n",
       "      <th>Title</th>\n",
       "      <th>Amount(in rupees)</th>\n",
       "      <th>Price (in rupees)</th>\n",
       "      <th>location</th>\n",
       "      <th>Carpet Area</th>\n",
       "      <th>Status</th>\n",
       "      <th>Floor</th>\n",
       "      <th>Transaction</th>\n",
       "      <th>Furnishing</th>\n",
       "      <th>facing</th>\n",
       "      <th>overlooking</th>\n",
       "      <th>Society</th>\n",
       "      <th>Bathroom</th>\n",
       "      <th>Balcony</th>\n",
       "      <th>Car Parking</th>\n",
       "      <th>Ownership</th>\n",
       "      <th>Super Area</th>\n",
       "      <th>Dimensions</th>\n",
       "      <th>Plot Area</th>\n",
       "    </tr>\n",
       "  </thead>\n",
       "  <tbody>\n",
       "    <tr>\n",
       "      <th>228</th>\n",
       "      <td>4 BHK Ready to Occupy Flat for sale in Hiranan...</td>\n",
       "      <td>3.20 Cr</td>\n",
       "      <td>17827.0</td>\n",
       "      <td>thane</td>\n",
       "      <td>1350 sqft</td>\n",
       "      <td>Ready to Move</td>\n",
       "      <td>16 out of 27</td>\n",
       "      <td>Resale</td>\n",
       "      <td>Unfurnished</td>\n",
       "      <td>East</td>\n",
       "      <td>Garden/Park</td>\n",
       "      <td>Hiranandani Meadows</td>\n",
       "      <td>3</td>\n",
       "      <td>1</td>\n",
       "      <td>2 Covered</td>\n",
       "      <td>Freehold</td>\n",
       "      <td>NaN</td>\n",
       "      <td>NaN</td>\n",
       "      <td>NaN</td>\n",
       "    </tr>\n",
       "    <tr>\n",
       "      <th>453</th>\n",
       "      <td>2 BHK Ready to Occupy Flat for sale in Cosmos ...</td>\n",
       "      <td>1 Cr</td>\n",
       "      <td>9091.0</td>\n",
       "      <td>thane</td>\n",
       "      <td>NaN</td>\n",
       "      <td>Ready to Move</td>\n",
       "      <td>8 out of 27</td>\n",
       "      <td>New Property</td>\n",
       "      <td>Semi-Furnished</td>\n",
       "      <td>NaN</td>\n",
       "      <td>NaN</td>\n",
       "      <td>Cosmos Horizon</td>\n",
       "      <td>2</td>\n",
       "      <td>NaN</td>\n",
       "      <td>NaN</td>\n",
       "      <td>NaN</td>\n",
       "      <td>1100 sqft</td>\n",
       "      <td>NaN</td>\n",
       "      <td>NaN</td>\n",
       "    </tr>\n",
       "    <tr>\n",
       "      <th>459</th>\n",
       "      <td>1 BHK Ready to Occupy Flat for sale Kasarvadavali</td>\n",
       "      <td>38 Lac</td>\n",
       "      <td>8837.0</td>\n",
       "      <td>thane</td>\n",
       "      <td>NaN</td>\n",
       "      <td>Ready to Move</td>\n",
       "      <td>4 out of 7</td>\n",
       "      <td>Resale</td>\n",
       "      <td>Unfurnished</td>\n",
       "      <td>NaN</td>\n",
       "      <td>NaN</td>\n",
       "      <td>NaN</td>\n",
       "      <td>1</td>\n",
       "      <td>NaN</td>\n",
       "      <td>NaN</td>\n",
       "      <td>NaN</td>\n",
       "      <td>430 sqft</td>\n",
       "      <td>NaN</td>\n",
       "      <td>NaN</td>\n",
       "    </tr>\n",
       "    <tr>\n",
       "      <th>494</th>\n",
       "      <td>2 BHK Ready to Occupy Flat for sale in Cosmos ...</td>\n",
       "      <td>1 Cr</td>\n",
       "      <td>9091.0</td>\n",
       "      <td>thane</td>\n",
       "      <td>NaN</td>\n",
       "      <td>Ready to Move</td>\n",
       "      <td>8 out of 27</td>\n",
       "      <td>New Property</td>\n",
       "      <td>Semi-Furnished</td>\n",
       "      <td>NaN</td>\n",
       "      <td>NaN</td>\n",
       "      <td>Cosmos Horizon</td>\n",
       "      <td>2</td>\n",
       "      <td>NaN</td>\n",
       "      <td>NaN</td>\n",
       "      <td>NaN</td>\n",
       "      <td>1100 sqft</td>\n",
       "      <td>NaN</td>\n",
       "      <td>NaN</td>\n",
       "    </tr>\n",
       "    <tr>\n",
       "      <th>495</th>\n",
       "      <td>2 BHK Ready to Occupy Flat for sale in Cosmos ...</td>\n",
       "      <td>1 Cr</td>\n",
       "      <td>9091.0</td>\n",
       "      <td>thane</td>\n",
       "      <td>NaN</td>\n",
       "      <td>Ready to Move</td>\n",
       "      <td>8 out of 27</td>\n",
       "      <td>New Property</td>\n",
       "      <td>Semi-Furnished</td>\n",
       "      <td>NaN</td>\n",
       "      <td>NaN</td>\n",
       "      <td>Cosmos Horizon</td>\n",
       "      <td>2</td>\n",
       "      <td>NaN</td>\n",
       "      <td>NaN</td>\n",
       "      <td>NaN</td>\n",
       "      <td>1100 sqft</td>\n",
       "      <td>NaN</td>\n",
       "      <td>NaN</td>\n",
       "    </tr>\n",
       "    <tr>\n",
       "      <th>...</th>\n",
       "      <td>...</td>\n",
       "      <td>...</td>\n",
       "      <td>...</td>\n",
       "      <td>...</td>\n",
       "      <td>...</td>\n",
       "      <td>...</td>\n",
       "      <td>...</td>\n",
       "      <td>...</td>\n",
       "      <td>...</td>\n",
       "      <td>...</td>\n",
       "      <td>...</td>\n",
       "      <td>...</td>\n",
       "      <td>...</td>\n",
       "      <td>...</td>\n",
       "      <td>...</td>\n",
       "      <td>...</td>\n",
       "      <td>...</td>\n",
       "      <td>...</td>\n",
       "      <td>...</td>\n",
       "    </tr>\n",
       "    <tr>\n",
       "      <th>187422</th>\n",
       "      <td>3 BHK Ready to Occupy Flat for sale Ambala Hig...</td>\n",
       "      <td>63.9 Lac</td>\n",
       "      <td>3277.0</td>\n",
       "      <td>zirakpur</td>\n",
       "      <td>1350 sqft</td>\n",
       "      <td>Ready to Move</td>\n",
       "      <td>2 out of 4</td>\n",
       "      <td>New Property</td>\n",
       "      <td>Semi-Furnished</td>\n",
       "      <td>North - East</td>\n",
       "      <td>Garden/Park, Pool, Main Road</td>\n",
       "      <td>NaN</td>\n",
       "      <td>3</td>\n",
       "      <td>2</td>\n",
       "      <td>1 Covered,</td>\n",
       "      <td>Freehold</td>\n",
       "      <td>NaN</td>\n",
       "      <td>NaN</td>\n",
       "      <td>NaN</td>\n",
       "    </tr>\n",
       "    <tr>\n",
       "      <th>187423</th>\n",
       "      <td>3 BHK Ready to Occupy Flat for sale Ambala Hig...</td>\n",
       "      <td>63.9 Lac</td>\n",
       "      <td>3277.0</td>\n",
       "      <td>zirakpur</td>\n",
       "      <td>1350 sqft</td>\n",
       "      <td>Ready to Move</td>\n",
       "      <td>2 out of 4</td>\n",
       "      <td>New Property</td>\n",
       "      <td>Semi-Furnished</td>\n",
       "      <td>North - East</td>\n",
       "      <td>Garden/Park, Pool, Main Road</td>\n",
       "      <td>NaN</td>\n",
       "      <td>3</td>\n",
       "      <td>2</td>\n",
       "      <td>1 Covered,</td>\n",
       "      <td>Freehold</td>\n",
       "      <td>NaN</td>\n",
       "      <td>NaN</td>\n",
       "      <td>NaN</td>\n",
       "    </tr>\n",
       "    <tr>\n",
       "      <th>187424</th>\n",
       "      <td>3 BHK Ready to Occupy Flat for sale in Elanza ...</td>\n",
       "      <td>73.9 Lac</td>\n",
       "      <td>4322.0</td>\n",
       "      <td>zirakpur</td>\n",
       "      <td>900 sqft</td>\n",
       "      <td>Ready to Move</td>\n",
       "      <td>2 out of 4</td>\n",
       "      <td>New Property</td>\n",
       "      <td>Semi-Furnished</td>\n",
       "      <td>East</td>\n",
       "      <td>Garden/Park, Main Road</td>\n",
       "      <td>Elanza</td>\n",
       "      <td>3</td>\n",
       "      <td>2</td>\n",
       "      <td>1 Covered</td>\n",
       "      <td>Freehold</td>\n",
       "      <td>NaN</td>\n",
       "      <td>NaN</td>\n",
       "      <td>NaN</td>\n",
       "    </tr>\n",
       "    <tr>\n",
       "      <th>187482</th>\n",
       "      <td>3 BHK Ready to Occupy Flat for sale in Highlan...</td>\n",
       "      <td>52.9 Lac</td>\n",
       "      <td>3833.0</td>\n",
       "      <td>zirakpur</td>\n",
       "      <td>NaN</td>\n",
       "      <td>Ready to Move</td>\n",
       "      <td>3 out of 3</td>\n",
       "      <td>New Property</td>\n",
       "      <td>Semi-Furnished</td>\n",
       "      <td>East</td>\n",
       "      <td>Garden/Park</td>\n",
       "      <td>Highland Park Homes</td>\n",
       "      <td>3</td>\n",
       "      <td>2</td>\n",
       "      <td>1 Covered</td>\n",
       "      <td>Freehold</td>\n",
       "      <td>1380 sqft</td>\n",
       "      <td>NaN</td>\n",
       "      <td>NaN</td>\n",
       "    </tr>\n",
       "    <tr>\n",
       "      <th>187487</th>\n",
       "      <td>3 BHK Ready to Occupy Flat for sale in Highlan...</td>\n",
       "      <td>52.9 Lac</td>\n",
       "      <td>3833.0</td>\n",
       "      <td>zirakpur</td>\n",
       "      <td>NaN</td>\n",
       "      <td>Ready to Move</td>\n",
       "      <td>3 out of 3</td>\n",
       "      <td>New Property</td>\n",
       "      <td>Semi-Furnished</td>\n",
       "      <td>East</td>\n",
       "      <td>Garden/Park</td>\n",
       "      <td>Highland Park Homes</td>\n",
       "      <td>3</td>\n",
       "      <td>2</td>\n",
       "      <td>1 Covered</td>\n",
       "      <td>Freehold</td>\n",
       "      <td>1380 sqft</td>\n",
       "      <td>NaN</td>\n",
       "      <td>NaN</td>\n",
       "    </tr>\n",
       "  </tbody>\n",
       "</table>\n",
       "<p>120426 rows × 19 columns</p>\n",
       "</div>"
      ],
      "text/plain": [
       "                                                    Title Amount(in rupees)  \\\n",
       "228     4 BHK Ready to Occupy Flat for sale in Hiranan...          3.20 Cr    \n",
       "453     2 BHK Ready to Occupy Flat for sale in Cosmos ...             1 Cr    \n",
       "459     1 BHK Ready to Occupy Flat for sale Kasarvadavali           38 Lac    \n",
       "494     2 BHK Ready to Occupy Flat for sale in Cosmos ...             1 Cr    \n",
       "495     2 BHK Ready to Occupy Flat for sale in Cosmos ...             1 Cr    \n",
       "...                                                   ...               ...   \n",
       "187422  3 BHK Ready to Occupy Flat for sale Ambala Hig...         63.9 Lac    \n",
       "187423  3 BHK Ready to Occupy Flat for sale Ambala Hig...         63.9 Lac    \n",
       "187424  3 BHK Ready to Occupy Flat for sale in Elanza ...         73.9 Lac    \n",
       "187482  3 BHK Ready to Occupy Flat for sale in Highlan...         52.9 Lac    \n",
       "187487  3 BHK Ready to Occupy Flat for sale in Highlan...         52.9 Lac    \n",
       "\n",
       "        Price (in rupees)  location Carpet Area         Status         Floor  \\\n",
       "228               17827.0     thane   1350 sqft  Ready to Move  16 out of 27   \n",
       "453                9091.0     thane         NaN  Ready to Move   8 out of 27   \n",
       "459                8837.0     thane         NaN  Ready to Move    4 out of 7   \n",
       "494                9091.0     thane         NaN  Ready to Move   8 out of 27   \n",
       "495                9091.0     thane         NaN  Ready to Move   8 out of 27   \n",
       "...                   ...       ...         ...            ...           ...   \n",
       "187422             3277.0  zirakpur   1350 sqft  Ready to Move    2 out of 4   \n",
       "187423             3277.0  zirakpur   1350 sqft  Ready to Move    2 out of 4   \n",
       "187424             4322.0  zirakpur    900 sqft  Ready to Move    2 out of 4   \n",
       "187482             3833.0  zirakpur         NaN  Ready to Move    3 out of 3   \n",
       "187487             3833.0  zirakpur         NaN  Ready to Move    3 out of 3   \n",
       "\n",
       "         Transaction      Furnishing        facing  \\\n",
       "228           Resale     Unfurnished          East   \n",
       "453     New Property  Semi-Furnished           NaN   \n",
       "459           Resale     Unfurnished           NaN   \n",
       "494     New Property  Semi-Furnished           NaN   \n",
       "495     New Property  Semi-Furnished           NaN   \n",
       "...              ...             ...           ...   \n",
       "187422  New Property  Semi-Furnished  North - East   \n",
       "187423  New Property  Semi-Furnished  North - East   \n",
       "187424  New Property  Semi-Furnished          East   \n",
       "187482  New Property  Semi-Furnished          East   \n",
       "187487  New Property  Semi-Furnished          East   \n",
       "\n",
       "                         overlooking              Society Bathroom Balcony  \\\n",
       "228                      Garden/Park  Hiranandani Meadows        3       1   \n",
       "453                              NaN       Cosmos Horizon        2     NaN   \n",
       "459                              NaN                  NaN        1     NaN   \n",
       "494                              NaN       Cosmos Horizon        2     NaN   \n",
       "495                              NaN       Cosmos Horizon        2     NaN   \n",
       "...                              ...                  ...      ...     ...   \n",
       "187422  Garden/Park, Pool, Main Road                  NaN        3       2   \n",
       "187423  Garden/Park, Pool, Main Road                  NaN        3       2   \n",
       "187424        Garden/Park, Main Road               Elanza        3       2   \n",
       "187482                   Garden/Park  Highland Park Homes        3       2   \n",
       "187487                   Garden/Park  Highland Park Homes        3       2   \n",
       "\n",
       "       Car Parking Ownership Super Area  Dimensions  Plot Area  \n",
       "228      2 Covered  Freehold        NaN         NaN        NaN  \n",
       "453            NaN       NaN  1100 sqft         NaN        NaN  \n",
       "459            NaN       NaN   430 sqft         NaN        NaN  \n",
       "494            NaN       NaN  1100 sqft         NaN        NaN  \n",
       "495            NaN       NaN  1100 sqft         NaN        NaN  \n",
       "...            ...       ...        ...         ...        ...  \n",
       "187422  1 Covered,  Freehold        NaN         NaN        NaN  \n",
       "187423  1 Covered,  Freehold        NaN         NaN        NaN  \n",
       "187424   1 Covered  Freehold        NaN         NaN        NaN  \n",
       "187482   1 Covered  Freehold  1380 sqft         NaN        NaN  \n",
       "187487   1 Covered  Freehold  1380 sqft         NaN        NaN  \n",
       "\n",
       "[120426 rows x 19 columns]"
      ]
     },
     "execution_count": 9,
     "metadata": {},
     "output_type": "execute_result"
    }
   ],
   "source": [
    "# duplicate data\n",
    "\n",
    "data[data.duplicated() == True]"
   ]
  },
  {
   "cell_type": "code",
   "execution_count": 10,
   "id": "153c7368-e470-4d03-82a4-6450012d86e1",
   "metadata": {},
   "outputs": [
    {
     "data": {
      "text/plain": [
       "'4 BHK Ready to Occupy Flat for sale in Hiranandani Meadows Manpada Thane West'"
      ]
     },
     "execution_count": 10,
     "metadata": {},
     "output_type": "execute_result"
    }
   ],
   "source": [
    "# taking one title name from duplicate values to view duplicates and verify\n",
    "\n",
    "data.iloc[228,0]"
   ]
  },
  {
   "cell_type": "code",
   "execution_count": 11,
   "id": "23770638-bda8-4e6c-a853-74e066d24b99",
   "metadata": {},
   "outputs": [
    {
     "data": {
      "text/html": [
       "<div>\n",
       "<style scoped>\n",
       "    .dataframe tbody tr th:only-of-type {\n",
       "        vertical-align: middle;\n",
       "    }\n",
       "\n",
       "    .dataframe tbody tr th {\n",
       "        vertical-align: top;\n",
       "    }\n",
       "\n",
       "    .dataframe thead th {\n",
       "        text-align: right;\n",
       "    }\n",
       "</style>\n",
       "<table border=\"1\" class=\"dataframe\">\n",
       "  <thead>\n",
       "    <tr style=\"text-align: right;\">\n",
       "      <th></th>\n",
       "      <th>Title</th>\n",
       "      <th>Amount(in rupees)</th>\n",
       "      <th>Price (in rupees)</th>\n",
       "      <th>location</th>\n",
       "      <th>Carpet Area</th>\n",
       "      <th>Status</th>\n",
       "      <th>Floor</th>\n",
       "      <th>Transaction</th>\n",
       "      <th>Furnishing</th>\n",
       "      <th>facing</th>\n",
       "      <th>overlooking</th>\n",
       "      <th>Society</th>\n",
       "      <th>Bathroom</th>\n",
       "      <th>Balcony</th>\n",
       "      <th>Car Parking</th>\n",
       "      <th>Ownership</th>\n",
       "      <th>Super Area</th>\n",
       "      <th>Dimensions</th>\n",
       "      <th>Plot Area</th>\n",
       "    </tr>\n",
       "  </thead>\n",
       "  <tbody>\n",
       "    <tr>\n",
       "      <th>30</th>\n",
       "      <td>4 BHK Ready to Occupy Flat for sale in Hiranan...</td>\n",
       "      <td>3.20 Cr</td>\n",
       "      <td>17827.0</td>\n",
       "      <td>thane</td>\n",
       "      <td>1350 sqft</td>\n",
       "      <td>Ready to Move</td>\n",
       "      <td>16 out of 27</td>\n",
       "      <td>Resale</td>\n",
       "      <td>Unfurnished</td>\n",
       "      <td>East</td>\n",
       "      <td>Garden/Park</td>\n",
       "      <td>Hiranandani Meadows</td>\n",
       "      <td>3</td>\n",
       "      <td>1</td>\n",
       "      <td>2 Covered</td>\n",
       "      <td>Freehold</td>\n",
       "      <td>NaN</td>\n",
       "      <td>NaN</td>\n",
       "      <td>NaN</td>\n",
       "    </tr>\n",
       "    <tr>\n",
       "      <th>228</th>\n",
       "      <td>4 BHK Ready to Occupy Flat for sale in Hiranan...</td>\n",
       "      <td>3.20 Cr</td>\n",
       "      <td>17827.0</td>\n",
       "      <td>thane</td>\n",
       "      <td>1350 sqft</td>\n",
       "      <td>Ready to Move</td>\n",
       "      <td>16 out of 27</td>\n",
       "      <td>Resale</td>\n",
       "      <td>Unfurnished</td>\n",
       "      <td>East</td>\n",
       "      <td>Garden/Park</td>\n",
       "      <td>Hiranandani Meadows</td>\n",
       "      <td>3</td>\n",
       "      <td>1</td>\n",
       "      <td>2 Covered</td>\n",
       "      <td>Freehold</td>\n",
       "      <td>NaN</td>\n",
       "      <td>NaN</td>\n",
       "      <td>NaN</td>\n",
       "    </tr>\n",
       "  </tbody>\n",
       "</table>\n",
       "</div>"
      ],
      "text/plain": [
       "                                                 Title Amount(in rupees)  \\\n",
       "30   4 BHK Ready to Occupy Flat for sale in Hiranan...          3.20 Cr    \n",
       "228  4 BHK Ready to Occupy Flat for sale in Hiranan...          3.20 Cr    \n",
       "\n",
       "     Price (in rupees) location Carpet Area         Status         Floor  \\\n",
       "30             17827.0    thane   1350 sqft  Ready to Move  16 out of 27   \n",
       "228            17827.0    thane   1350 sqft  Ready to Move  16 out of 27   \n",
       "\n",
       "    Transaction   Furnishing facing  overlooking              Society  \\\n",
       "30       Resale  Unfurnished   East  Garden/Park  Hiranandani Meadows   \n",
       "228      Resale  Unfurnished   East  Garden/Park  Hiranandani Meadows   \n",
       "\n",
       "    Bathroom Balcony Car Parking Ownership Super Area  Dimensions  Plot Area  \n",
       "30         3       1   2 Covered  Freehold        NaN         NaN        NaN  \n",
       "228        3       1   2 Covered  Freehold        NaN         NaN        NaN  "
      ]
     },
     "execution_count": 11,
     "metadata": {},
     "output_type": "execute_result"
    }
   ],
   "source": [
    "# checking duplicate values are correct or not\n",
    "# duplicate rows are not adjascent each other,Here i am using head(2) i know that duplicates next to each here only \n",
    "\n",
    "data[data['Title'] == '4 BHK Ready to Occupy Flat for sale in Hiranandani Meadows Manpada Thane West'].head(2)"
   ]
  },
  {
   "cell_type": "code",
   "execution_count": 12,
   "id": "cd80e821-a249-4415-8ae3-d1bfe0e2d2e3",
   "metadata": {},
   "outputs": [],
   "source": [
    "# removing duplicate rows\n",
    "\n",
    "data.drop_duplicates(keep = 'first',inplace = True)"
   ]
  },
  {
   "cell_type": "code",
   "execution_count": 13,
   "id": "c61c1929-5911-4e8e-80a7-68899d6044ed",
   "metadata": {},
   "outputs": [
    {
     "data": {
      "text/plain": [
       "(67105, 19)"
      ]
     },
     "execution_count": 13,
     "metadata": {},
     "output_type": "execute_result"
    }
   ],
   "source": [
    "# with duplicates      187531\n",
    "# without duplicates - 120426 \n",
    "#                      67105\n",
    "\n",
    "data.shape"
   ]
  },
  {
   "cell_type": "code",
   "execution_count": 14,
   "id": "ab330723-76ec-4317-a71b-28f29248308f",
   "metadata": {},
   "outputs": [
    {
     "data": {
      "text/plain": [
       "(67105, 15)"
      ]
     },
     "execution_count": 14,
     "metadata": {},
     "output_type": "execute_result"
    }
   ],
   "source": [
    "# removing unwatend columns and Total null values column for Analysis\n",
    "\n",
    "data.drop(['Price (in rupees)','Society','Dimensions','Plot Area'],axis = 1, inplace = True)\n",
    "data.shape"
   ]
  },
  {
   "cell_type": "code",
   "execution_count": 15,
   "id": "5b832f3e-7ce5-493a-b1be-879fc6d3373a",
   "metadata": {},
   "outputs": [
    {
     "data": {
      "text/plain": [
       "Title                    0\n",
       "Amount(in rupees)        0\n",
       "location                 0\n",
       "Carpet Area          29576\n",
       "Status                 299\n",
       "Floor                 2541\n",
       "Transaction             78\n",
       "Furnishing            1264\n",
       "facing               26406\n",
       "overlooking          29100\n",
       "Bathroom               450\n",
       "Balcony              18708\n",
       "Car Parking          38851\n",
       "Ownership            24559\n",
       "Super Area           37653\n",
       "dtype: int64"
      ]
     },
     "execution_count": 15,
     "metadata": {},
     "output_type": "execute_result"
    }
   ],
   "source": [
    "data.isna().sum()"
   ]
  },
  {
   "cell_type": "code",
   "execution_count": 16,
   "id": "f264024f-2d07-400e-94ff-446aba9e7c55",
   "metadata": {},
   "outputs": [
    {
     "data": {
      "text/plain": [
       "Title                 0.000000\n",
       "Amount(in rupees)     0.000000\n",
       "location              0.000000\n",
       "Carpet Area          44.074212\n",
       "Status                0.445570\n",
       "Floor                 3.786603\n",
       "Transaction           0.116236\n",
       "Furnishing            1.883615\n",
       "facing               39.350272\n",
       "overlooking          43.364876\n",
       "Bathroom              0.670591\n",
       "Balcony              27.878698\n",
       "Car Parking          57.895835\n",
       "Ownership            36.597869\n",
       "Super Area           56.110573\n",
       "dtype: float64"
      ]
     },
     "execution_count": 16,
     "metadata": {},
     "output_type": "execute_result"
    }
   ],
   "source": [
    "# checking for null values percentage count in each column\n",
    "\n",
    "data.isna().sum()* 100 / len(data)"
   ]
  },
  {
   "cell_type": "code",
   "execution_count": 17,
   "id": "3adcf60a-3717-446c-a061-15f210dc7f2d",
   "metadata": {
    "scrolled": true
   },
   "outputs": [
    {
     "data": {
      "text/html": [
       "<div>\n",
       "<style scoped>\n",
       "    .dataframe tbody tr th:only-of-type {\n",
       "        vertical-align: middle;\n",
       "    }\n",
       "\n",
       "    .dataframe tbody tr th {\n",
       "        vertical-align: top;\n",
       "    }\n",
       "\n",
       "    .dataframe thead th {\n",
       "        text-align: right;\n",
       "    }\n",
       "</style>\n",
       "<table border=\"1\" class=\"dataframe\">\n",
       "  <thead>\n",
       "    <tr style=\"text-align: right;\">\n",
       "      <th></th>\n",
       "      <th>Title</th>\n",
       "      <th>Amount(in rupees)</th>\n",
       "      <th>location</th>\n",
       "      <th>Carpet Area</th>\n",
       "      <th>Status</th>\n",
       "      <th>Floor</th>\n",
       "      <th>Transaction</th>\n",
       "      <th>Furnishing</th>\n",
       "      <th>facing</th>\n",
       "      <th>overlooking</th>\n",
       "      <th>Bathroom</th>\n",
       "      <th>Balcony</th>\n",
       "      <th>Car Parking</th>\n",
       "      <th>Ownership</th>\n",
       "      <th>Super Area</th>\n",
       "    </tr>\n",
       "  </thead>\n",
       "  <tbody>\n",
       "    <tr>\n",
       "      <th>0</th>\n",
       "      <td>1 BHK Ready to Occupy Flat for sale in Srushti...</td>\n",
       "      <td>42 Lac</td>\n",
       "      <td>thane</td>\n",
       "      <td>500 sqft</td>\n",
       "      <td>Ready to Move</td>\n",
       "      <td>10 out of 11</td>\n",
       "      <td>Resale</td>\n",
       "      <td>Unfurnished</td>\n",
       "      <td>NaN</td>\n",
       "      <td>NaN</td>\n",
       "      <td>1</td>\n",
       "      <td>2</td>\n",
       "      <td>NaN</td>\n",
       "      <td>NaN</td>\n",
       "      <td>NaN</td>\n",
       "    </tr>\n",
       "    <tr>\n",
       "      <th>1</th>\n",
       "      <td>2 BHK Ready to Occupy Flat for sale in Dosti V...</td>\n",
       "      <td>98 Lac</td>\n",
       "      <td>thane</td>\n",
       "      <td>473 sqft</td>\n",
       "      <td>Ready to Move</td>\n",
       "      <td>3 out of 22</td>\n",
       "      <td>Resale</td>\n",
       "      <td>Semi-Furnished</td>\n",
       "      <td>East</td>\n",
       "      <td>Garden/Park</td>\n",
       "      <td>2</td>\n",
       "      <td>NaN</td>\n",
       "      <td>1 Open</td>\n",
       "      <td>Freehold</td>\n",
       "      <td>NaN</td>\n",
       "    </tr>\n",
       "    <tr>\n",
       "      <th>2</th>\n",
       "      <td>2 BHK Ready to Occupy Flat for sale in Sunrise...</td>\n",
       "      <td>1.40 Cr</td>\n",
       "      <td>thane</td>\n",
       "      <td>779 sqft</td>\n",
       "      <td>Ready to Move</td>\n",
       "      <td>10 out of 29</td>\n",
       "      <td>Resale</td>\n",
       "      <td>Unfurnished</td>\n",
       "      <td>East</td>\n",
       "      <td>Garden/Park</td>\n",
       "      <td>2</td>\n",
       "      <td>NaN</td>\n",
       "      <td>1 Covered</td>\n",
       "      <td>Freehold</td>\n",
       "      <td>NaN</td>\n",
       "    </tr>\n",
       "    <tr>\n",
       "      <th>3</th>\n",
       "      <td>1 BHK Ready to Occupy Flat for sale Kasheli</td>\n",
       "      <td>25 Lac</td>\n",
       "      <td>thane</td>\n",
       "      <td>530 sqft</td>\n",
       "      <td>Ready to Move</td>\n",
       "      <td>1 out of 3</td>\n",
       "      <td>Resale</td>\n",
       "      <td>Unfurnished</td>\n",
       "      <td>NaN</td>\n",
       "      <td>NaN</td>\n",
       "      <td>1</td>\n",
       "      <td>1</td>\n",
       "      <td>NaN</td>\n",
       "      <td>NaN</td>\n",
       "      <td>NaN</td>\n",
       "    </tr>\n",
       "    <tr>\n",
       "      <th>4</th>\n",
       "      <td>2 BHK Ready to Occupy Flat for sale in TenX Ha...</td>\n",
       "      <td>1.60 Cr</td>\n",
       "      <td>thane</td>\n",
       "      <td>635 sqft</td>\n",
       "      <td>Ready to Move</td>\n",
       "      <td>20 out of 42</td>\n",
       "      <td>Resale</td>\n",
       "      <td>Unfurnished</td>\n",
       "      <td>West</td>\n",
       "      <td>Garden/Park, Main Road</td>\n",
       "      <td>2</td>\n",
       "      <td>NaN</td>\n",
       "      <td>1 Covered</td>\n",
       "      <td>Co-operative Society</td>\n",
       "      <td>NaN</td>\n",
       "    </tr>\n",
       "  </tbody>\n",
       "</table>\n",
       "</div>"
      ],
      "text/plain": [
       "                                               Title Amount(in rupees)  \\\n",
       "0  1 BHK Ready to Occupy Flat for sale in Srushti...           42 Lac    \n",
       "1  2 BHK Ready to Occupy Flat for sale in Dosti V...           98 Lac    \n",
       "2  2 BHK Ready to Occupy Flat for sale in Sunrise...          1.40 Cr    \n",
       "3        1 BHK Ready to Occupy Flat for sale Kasheli           25 Lac    \n",
       "4  2 BHK Ready to Occupy Flat for sale in TenX Ha...          1.60 Cr    \n",
       "\n",
       "  location Carpet Area         Status         Floor Transaction  \\\n",
       "0    thane    500 sqft  Ready to Move  10 out of 11      Resale   \n",
       "1    thane    473 sqft  Ready to Move   3 out of 22      Resale   \n",
       "2    thane    779 sqft  Ready to Move  10 out of 29      Resale   \n",
       "3    thane    530 sqft  Ready to Move    1 out of 3      Resale   \n",
       "4    thane    635 sqft  Ready to Move  20 out of 42      Resale   \n",
       "\n",
       "       Furnishing facing             overlooking Bathroom Balcony Car Parking  \\\n",
       "0     Unfurnished    NaN                     NaN        1       2         NaN   \n",
       "1  Semi-Furnished   East             Garden/Park        2     NaN      1 Open   \n",
       "2     Unfurnished   East             Garden/Park        2     NaN   1 Covered   \n",
       "3     Unfurnished    NaN                     NaN        1       1         NaN   \n",
       "4     Unfurnished   West  Garden/Park, Main Road        2     NaN   1 Covered   \n",
       "\n",
       "              Ownership Super Area  \n",
       "0                   NaN        NaN  \n",
       "1              Freehold        NaN  \n",
       "2              Freehold        NaN  \n",
       "3                   NaN        NaN  \n",
       "4  Co-operative Society        NaN  "
      ]
     },
     "execution_count": 17,
     "metadata": {},
     "output_type": "execute_result"
    }
   ],
   "source": [
    "data.head()"
   ]
  },
  {
   "cell_type": "markdown",
   "id": "8f0ee9ed-59bb-47e7-bd92-1e9e2230205c",
   "metadata": {},
   "source": [
    "## Column wise cleaning and transformation"
   ]
  },
  {
   "cell_type": "markdown",
   "id": "ec8b1824-8bfd-4b29-a4fc-68482d30ff1e",
   "metadata": {},
   "source": [
    "__Cleaning traget column -- Amount(in rupees)__\n",
    "\n",
    "1. Transforming text into numerical column.\n",
    "2. removing odd text"
   ]
  },
  {
   "cell_type": "code",
   "execution_count": 18,
   "id": "d9a9e1bb-008c-4dbe-8012-25b762599147",
   "metadata": {},
   "outputs": [
    {
     "data": {
      "text/plain": [
       "array(['42 Lac ', '98 Lac ', '1.40 Cr ', '25 Lac ', '1.60 Cr ', '45 Lac ',\n",
       "       '16.5 Lac ', '60 Lac ', '1.36 Cr ', '1.35 Cr '], dtype=object)"
      ]
     },
     "execution_count": 18,
     "metadata": {},
     "output_type": "execute_result"
    }
   ],
   "source": [
    "data['Amount(in rupees)'].unique()[:10]"
   ]
  },
  {
   "cell_type": "code",
   "execution_count": 19,
   "id": "4ededd72-fea3-4e78-ad42-90b9da752c3f",
   "metadata": {},
   "outputs": [
    {
     "name": "stderr",
     "output_type": "stream",
     "text": [
      "C:\\Users\\sivak\\AppData\\Local\\Temp\\ipykernel_36908\\749427666.py:3: UserWarning: This pattern is interpreted as a regular expression, and has match groups. To actually get the groups, use str.extract.\n",
      "  data[~data['Amount(in rupees)'].str.contains(r\"(\\d\\s*)\",case = False)]['Amount(in rupees)'].unique()\n"
     ]
    },
    {
     "data": {
      "text/plain": [
       "array(['Call for Price'], dtype=object)"
      ]
     },
     "execution_count": 19,
     "metadata": {},
     "output_type": "execute_result"
    }
   ],
   "source": [
    "# find that is there any text in traget column instead of price\n",
    "\n",
    "data[~data['Amount(in rupees)'].str.contains(r\"(\\d\\s*)\",case = False)]['Amount(in rupees)'].unique()"
   ]
  },
  {
   "cell_type": "code",
   "execution_count": 20,
   "id": "cb23760a-d999-4bd4-9196-7e84e350878a",
   "metadata": {},
   "outputs": [
    {
     "name": "stderr",
     "output_type": "stream",
     "text": [
      "C:\\Users\\sivak\\AppData\\Local\\Temp\\ipykernel_36908\\1714493268.py:3: UserWarning: This pattern is interpreted as a regular expression, and has match groups. To actually get the groups, use str.extract.\n",
      "  data = data[data['Amount(in rupees)'].str.contains(r\"(\\d\\s*)\",case = False)]\n"
     ]
    }
   ],
   "source": [
    "# removing rows based on Amount(in rupees) text --'Call for Price'--\n",
    "\n",
    "data = data[data['Amount(in rupees)'].str.contains(r\"(\\d\\s*)\",case = False)]"
   ]
  },
  {
   "cell_type": "code",
   "execution_count": 21,
   "id": "3ea0363f-811b-4662-8f9a-6276e6a38226",
   "metadata": {},
   "outputs": [
    {
     "data": {
      "text/plain": [
       "(64208, 15)"
      ]
     },
     "execution_count": 21,
     "metadata": {},
     "output_type": "execute_result"
    }
   ],
   "source": [
    "# Before removing - 67105\n",
    "# After removing - 64208\n",
    "data.shape"
   ]
  },
  {
   "cell_type": "code",
   "execution_count": 22,
   "id": "170ddce6-f9ee-4ef7-9109-1403a0612e6f",
   "metadata": {},
   "outputs": [],
   "source": [
    "# conversation function\n",
    "\n",
    "def text_numbers(text):\n",
    "    value = text.strip().lower()\n",
    "    if \"lac\" in value : \n",
    "        return float(value.replace('lac','').strip())*100000\n",
    "    elif 'cr' in value :\n",
    "        return float(value.replace('cr','').strip())*10000000\n",
    "    else :\n",
    "        return float(value)"
   ]
  },
  {
   "cell_type": "code",
   "execution_count": 23,
   "id": "8520514e-7278-490c-8185-39fe04b7fa4b",
   "metadata": {},
   "outputs": [],
   "source": [
    "# transforming text into float\n",
    "\n",
    "data['Amount(in rupees)'] = data['Amount(in rupees)'].apply(text_numbers)"
   ]
  },
  {
   "cell_type": "code",
   "execution_count": 24,
   "id": "d88b28a7-379d-46fc-8a9f-7e6f89239570",
   "metadata": {},
   "outputs": [
    {
     "data": {
      "text/plain": [
       "dtype('float64')"
      ]
     },
     "execution_count": 24,
     "metadata": {},
     "output_type": "execute_result"
    }
   ],
   "source": [
    "# checking column transformed or not\n",
    "\n",
    "data['Amount(in rupees)'].dtype"
   ]
  },
  {
   "cell_type": "code",
   "execution_count": 25,
   "id": "93f586dd-8dbe-454c-8430-4c0578aefbf9",
   "metadata": {},
   "outputs": [
    {
     "data": {
      "text/plain": [
       "181234    1.400300e+10\n",
       "176536    5.100400e+09\n",
       "174894    3.967500e+09\n",
       "175013    2.298000e+09\n",
       "183303    8.000000e+08\n",
       "              ...     \n",
       "164988    1.100000e+05\n",
       "148933    1.000000e+05\n",
       "165328    1.000000e+05\n",
       "180482    1.000000e+05\n",
       "173924    1.000000e+05\n",
       "Name: Amount(in rupees), Length: 64208, dtype: float64"
      ]
     },
     "execution_count": 25,
     "metadata": {},
     "output_type": "execute_result"
    }
   ],
   "source": [
    "data['Amount(in rupees)'].sort_values(ascending = False)"
   ]
  },
  {
   "cell_type": "code",
   "execution_count": 26,
   "id": "c9a98f13-d6f3-4a92-be93-55445ee6bb89",
   "metadata": {},
   "outputs": [
    {
     "data": {
      "text/plain": [
       "64204"
      ]
     },
     "execution_count": 26,
     "metadata": {},
     "output_type": "execute_result"
    }
   ],
   "source": [
    "data[data['Amount(in rupees)']<=2000000000]['Amount(in rupees)'].count()"
   ]
  },
  {
   "cell_type": "markdown",
   "id": "4bfe0514-87bb-4111-b1b3-1559ef61fac4",
   "metadata": {},
   "source": [
    "__Title Column__\n",
    "\n",
    "1. Removing other text in title and extracting title only."
   ]
  },
  {
   "cell_type": "code",
   "execution_count": 27,
   "id": "c8f1f823-85f3-4134-9b90-48f584b46e2d",
   "metadata": {},
   "outputs": [
    {
     "data": {
      "text/plain": [
       "array(['1 BHK Ready to Occupy Flat for sale in Srushti Siddhi Mangal Murti Complex Bhiwandi',\n",
       "       '2 BHK Ready to Occupy Flat for sale in Dosti Vihar Pokhran Road',\n",
       "       '2 BHK Ready to Occupy Flat for sale in Sunrise by Kalpataru Kolshet Road',\n",
       "       '1 BHK Ready to Occupy Flat for sale Kasheli',\n",
       "       '2 BHK Ready to Occupy Flat for sale in TenX Habitat Raymond Realty Pokhran Road',\n",
       "       '1 BHK Ready to Occupy Flat for sale in Virat Aangan Titwala',\n",
       "       '1 BHK Ready to Occupy Flat for sale Mumbra',\n",
       "       '1 BHK Ready to Occupy Flat for sale Kalwa',\n",
       "       '3 BHK Ready to Occupy Flat for sale in Pride Palms Kolshet',\n",
       "       '3 BHK Ready to Occupy Flat for sale in Cosmos Lounge Manpada Thane West'],\n",
       "      dtype=object)"
      ]
     },
     "execution_count": 27,
     "metadata": {},
     "output_type": "execute_result"
    }
   ],
   "source": [
    "data['Title'].unique()[:10]"
   ]
  },
  {
   "cell_type": "code",
   "execution_count": 28,
   "id": "9269dda6-5610-4e91-8d75-1c3aecad3180",
   "metadata": {},
   "outputs": [],
   "source": [
    "# triming extra space of the text\n",
    "\n",
    "data['Title'] = data['Title'].str.replace(r'(\\s+)',' ',regex = True).str.strip()"
   ]
  },
  {
   "cell_type": "code",
   "execution_count": 29,
   "id": "07a11796-c0db-42c4-b24d-a85e3098982b",
   "metadata": {},
   "outputs": [
    {
     "name": "stderr",
     "output_type": "stream",
     "text": [
      "C:\\Users\\sivak\\AppData\\Local\\Temp\\ipykernel_36908\\774476106.py:4: UserWarning: This pattern is interpreted as a regular expression, and has match groups. To actually get the groups, use str.extract.\n",
      "  d.fillna(data[~data['Title'].str.strip().str.contains(r'(?i)(\\d+\\s*BHK)',case = False)][\"Title\"].str.strip(\" \").str.split(\" \").str[0],inplace= True)\n"
     ]
    }
   ],
   "source": [
    "# trim the extra text in title column keeping precise\n",
    "\n",
    "d= data['Title'].str.strip().str.extract(r'(?i)(\\d+\\s*BHK)',expand = False)\n",
    "d.fillna(data[~data['Title'].str.strip().str.contains(r'(?i)(\\d+\\s*BHK)',case = False)][\"Title\"].str.strip(\" \").str.split(\" \").str[0],inplace= True)\n",
    "\n",
    "data['Title']=d"
   ]
  },
  {
   "cell_type": "code",
   "execution_count": 30,
   "id": "96c90a57-5bcb-41fa-ab73-42bacbf59946",
   "metadata": {},
   "outputs": [
    {
     "data": {
      "text/plain": [
       "array(['1 BHK', '2 BHK', '3 BHK', '4 BHK', '5 BHK', 'Studio', '6 BHK',\n",
       "       'Apartment', '8 BHK', '7 BHK', '10 BHK', '9 BHK', 'Builder'],\n",
       "      dtype=object)"
      ]
     },
     "execution_count": 30,
     "metadata": {},
     "output_type": "execute_result"
    }
   ],
   "source": [
    "data['Title'].unique()"
   ]
  },
  {
   "cell_type": "markdown",
   "id": "8ffd88eb-c65c-42ee-b442-63e6cc2508d3",
   "metadata": {},
   "source": [
    "__Location Column__"
   ]
  },
  {
   "cell_type": "code",
   "execution_count": 31,
   "id": "507fb12c-2f3f-472a-ac11-ac94e801e5c0",
   "metadata": {},
   "outputs": [
    {
     "data": {
      "text/plain": [
       "0"
      ]
     },
     "execution_count": 31,
     "metadata": {},
     "output_type": "execute_result"
    }
   ],
   "source": [
    "data['location'].isna().sum()"
   ]
  },
  {
   "cell_type": "code",
   "execution_count": 32,
   "id": "93ecd516-728d-4b12-a003-c9afc028c76a",
   "metadata": {},
   "outputs": [
    {
     "data": {
      "text/plain": [
       "array(['thane', 'navi-mumbai', 'nagpur', 'mumbai', 'ahmedabad',\n",
       "       'bangalore', 'chennai', 'gurgaon', 'hyderabad', 'indore', 'jaipur',\n",
       "       'kolkata', 'lucknow', 'new-delhi', 'noida', 'pune', 'agra',\n",
       "       'ahmadnagar', 'allahabad', 'aurangabad', 'badlapur', 'belgaum',\n",
       "       'bhiwadi', 'bhiwandi', 'bhopal', 'bhubaneswar', 'chandigarh',\n",
       "       'coimbatore', 'dehradun', 'durgapur', 'ernakulam', 'faridabad',\n",
       "       'ghaziabad', 'goa', 'greater-noida', 'guntur', 'guwahati',\n",
       "       'gwalior', 'haridwar', 'jabalpur', 'jamshedpur', 'jodhpur',\n",
       "       'kalyan', 'kanpur', 'kochi', 'kozhikode', 'ludhiana', 'madurai',\n",
       "       'mangalore', 'mohali', 'mysore', 'nashik', 'navsari', 'nellore',\n",
       "       'palakkad', 'palghar', 'panchkula', 'patna', 'pondicherry',\n",
       "       'raipur', 'rajahmundry', 'ranchi', 'satara', 'shimla', 'siliguri',\n",
       "       'solapur', 'sonipat', 'surat', 'thrissur', 'tirupati', 'trichy',\n",
       "       'trivandrum', 'udaipur', 'udupi', 'vadodara', 'vapi', 'varanasi',\n",
       "       'vijayawada', 'visakhapatnam', 'vrindavan', 'zirakpur'],\n",
       "      dtype=object)"
      ]
     },
     "execution_count": 32,
     "metadata": {},
     "output_type": "execute_result"
    }
   ],
   "source": [
    "data['location'].unique()"
   ]
  },
  {
   "cell_type": "markdown",
   "id": "742d65f8-2662-44ea-b966-3cf5189592e4",
   "metadata": {},
   "source": [
    "__Carpet Area Column__\n",
    "\n",
    "1.Based on tile filling null values with averages\n",
    "2.tranforming text data to ineger"
   ]
  },
  {
   "cell_type": "code",
   "execution_count": 33,
   "id": "b4bd2998-e463-44e7-9804-acdef9aafd67",
   "metadata": {},
   "outputs": [
    {
     "data": {
      "text/plain": [
       "28078"
      ]
     },
     "execution_count": 33,
     "metadata": {},
     "output_type": "execute_result"
    }
   ],
   "source": [
    "data['Carpet Area'].isna().sum()"
   ]
  },
  {
   "cell_type": "code",
   "execution_count": 34,
   "id": "39820fc7-c2c1-40b7-81b7-a137470fa66f",
   "metadata": {},
   "outputs": [],
   "source": [
    "# removing space on both sides of text\n",
    "\n",
    "data['Carpet Area'] = data['Carpet Area'].str.strip()"
   ]
  },
  {
   "cell_type": "code",
   "execution_count": 35,
   "id": "bbff72b7-a596-4e2e-98a0-6ba45b8b54fa",
   "metadata": {},
   "outputs": [],
   "source": [
    "# remove sqft in carpet area column and filling null values with average\n",
    "\n",
    "d = data['Carpet Area'].str.extract(r'(\\d+)',expand = False)\n",
    "d = d.astype('float64')\n",
    "d = pd.concat([d,data['Title']],axis = 1)\n",
    "title_avg_values = d.groupby(['Title'])['Carpet Area'].mean()\n",
    "title_avg_values = title_avg_values.fillna(0)\n",
    "d['Carpet Area'] = d['Carpet Area'].fillna(d['Title'].map(title_avg_values))\n",
    "d.drop(['Title'],axis = 1,inplace = True)\n",
    "data['Carpet Area'] = d"
   ]
  },
  {
   "cell_type": "code",
   "execution_count": 36,
   "id": "9be113a0-f26c-4e5d-85b8-dce94a4d5331",
   "metadata": {},
   "outputs": [
    {
     "data": {
      "text/plain": [
       "Title\n",
       "1 BHK         488.893838\n",
       "10 BHK       6568.062500\n",
       "2 BHK         966.058970\n",
       "3 BHK        1366.226204\n",
       "4 BHK        2174.797118\n",
       "5 BHK        3178.393393\n",
       "6 BHK        4216.166667\n",
       "7 BHK        3184.375000\n",
       "8 BHK        5448.500000\n",
       "9 BHK           0.000000\n",
       "Apartment     562.500000\n",
       "Builder         0.000000\n",
       "Studio        572.165468\n",
       "Name: Carpet Area, dtype: float64"
      ]
     },
     "execution_count": 36,
     "metadata": {},
     "output_type": "execute_result"
    }
   ],
   "source": [
    "title_avg_values"
   ]
  },
  {
   "cell_type": "markdown",
   "id": "012a00c7-4ea4-4270-95c2-ec226fe1613d",
   "metadata": {},
   "source": [
    "__Status Column__"
   ]
  },
  {
   "cell_type": "code",
   "execution_count": 37,
   "id": "d934db7f-006a-42a0-aa12-7654a32031d6",
   "metadata": {},
   "outputs": [
    {
     "data": {
      "text/plain": [
       "279"
      ]
     },
     "execution_count": 37,
     "metadata": {},
     "output_type": "execute_result"
    }
   ],
   "source": [
    "data['Status'].isna().sum()"
   ]
  },
  {
   "cell_type": "code",
   "execution_count": 38,
   "id": "367ea880-4f9e-47b5-af7b-74f8f48cdf48",
   "metadata": {},
   "outputs": [
    {
     "data": {
      "text/plain": [
       "array(['Ready to Move', nan], dtype=object)"
      ]
     },
     "execution_count": 38,
     "metadata": {},
     "output_type": "execute_result"
    }
   ],
   "source": [
    "data['Status'].unique()"
   ]
  },
  {
   "cell_type": "code",
   "execution_count": 39,
   "id": "061731fa-07d8-402e-9cbf-7d035e46c745",
   "metadata": {},
   "outputs": [],
   "source": [
    "data['Status'] = data['Status'].fillna(\"Not Mentioned\")"
   ]
  },
  {
   "cell_type": "code",
   "execution_count": 40,
   "id": "a576fdfa-f9d4-473d-9b62-053043dd51ff",
   "metadata": {},
   "outputs": [
    {
     "data": {
      "text/plain": [
       "array(['Ready to Move', 'Not Mentioned'], dtype=object)"
      ]
     },
     "execution_count": 40,
     "metadata": {},
     "output_type": "execute_result"
    }
   ],
   "source": [
    "data['Status'].unique()"
   ]
  },
  {
   "cell_type": "markdown",
   "id": "212709a5-453d-4799-bf10-48b17a6ae3b4",
   "metadata": {},
   "source": [
    "__Floor Column__\n",
    "\n",
    "1. Filling null values with avg based on title"
   ]
  },
  {
   "cell_type": "code",
   "execution_count": 41,
   "id": "1790c401-06de-4318-8755-f6b95867e9a1",
   "metadata": {},
   "outputs": [
    {
     "data": {
      "text/plain": [
       "2431"
      ]
     },
     "execution_count": 41,
     "metadata": {},
     "output_type": "execute_result"
    }
   ],
   "source": [
    "data['Floor'].isna().sum()"
   ]
  },
  {
   "cell_type": "code",
   "execution_count": 42,
   "id": "4d7c3b63-4a26-440a-a5f9-f43c620d31ec",
   "metadata": {},
   "outputs": [
    {
     "name": "stderr",
     "output_type": "stream",
     "text": [
      "C:\\Users\\sivak\\AppData\\Local\\Temp\\ipykernel_36908\\3984854070.py:4: FutureWarning: A value is trying to be set on a copy of a DataFrame or Series through chained assignment using an inplace method.\n",
      "The behavior will change in pandas 3.0. This inplace method will never work because the intermediate object on which we are setting values always behaves as a copy.\n",
      "\n",
      "For example, when doing 'df[col].method(value, inplace=True)', try using 'df.method({col: value}, inplace=True)' or df[col] = df[col].method(value) instead, to perform the operation inplace on the original object.\n",
      "\n",
      "\n",
      "  data['Floor'].replace(r\"\\s+\",' ',regex = True,inplace = True)\n"
     ]
    }
   ],
   "source": [
    "# removing extra spaces and making it into single space separators\n",
    "\n",
    "data['Floor'] = data['Floor'].str.strip()\n",
    "data['Floor'].replace(r\"\\s+\",' ',regex = True,inplace = True)"
   ]
  },
  {
   "cell_type": "code",
   "execution_count": 43,
   "id": "54e07c64-2149-433d-9a00-658a039e3081",
   "metadata": {},
   "outputs": [],
   "source": [
    "# spliting into two columns \n",
    "\n",
    "d = data['Floor'].str.split('out of',expand = True,n = 1)"
   ]
  },
  {
   "cell_type": "code",
   "execution_count": 44,
   "id": "2236b139-e819-4022-9fd6-1a38a830032a",
   "metadata": {},
   "outputs": [],
   "source": [
    "# converting floor names into numbers\n",
    "\n",
    "\n",
    "def Floor_text_to_num(text):\n",
    "    value = str(text).strip().lower()\n",
    "    if 'upper basement' in value:\n",
    "        return '-1'\n",
    "    elif 'lower basement' in value:\n",
    "        return \"-2\"\n",
    "    elif 'ground' in value :\n",
    "        return '0'\n",
    "    elif value in ('nan','None','none'):\n",
    "        return np.nan\n",
    "    else : \n",
    "        return value.strip()"
   ]
  },
  {
   "cell_type": "code",
   "execution_count": 45,
   "id": "a00f0149-1da4-4f8a-87de-97e4412813ea",
   "metadata": {},
   "outputs": [],
   "source": [
    "# applying convertion function\n",
    "\n",
    "d[0] = d[0].apply(Floor_text_to_num)"
   ]
  },
  {
   "cell_type": "code",
   "execution_count": 46,
   "id": "39b6dc67-d00c-4557-b9bb-9d971c519847",
   "metadata": {},
   "outputs": [],
   "source": [
    "# applying convertion function\n",
    "\n",
    "d[1] = d[1].apply(Floor_text_to_num)"
   ]
  },
  {
   "cell_type": "code",
   "execution_count": 47,
   "id": "71eddc3e-39e2-4902-b51d-977dfc5fdbb5",
   "metadata": {},
   "outputs": [],
   "source": [
    "# converting data types\n",
    "\n",
    "d[0] = d[0].astype('float64')\n",
    "d[1] = d[1].astype('float64')"
   ]
  },
  {
   "cell_type": "code",
   "execution_count": 48,
   "id": "4fb43e19-cac3-4298-a121-62968c87e3e4",
   "metadata": {},
   "outputs": [],
   "source": [
    "# filling null values with average values based on title\n",
    "\n",
    "d = pd.concat([d[0],d[1],data['Title']],axis = 1)\n",
    "cur_floor = d.groupby(['Title'])[1].mean()\n",
    "tot_floor = d.groupby(['Title'])[1].max()\n",
    "\n",
    "d[0] = d[0].fillna(d['Title'].map(cur_floor))\n",
    "d[1] = d[1].fillna(d['Title'].map(tot_floor))"
   ]
  },
  {
   "cell_type": "code",
   "execution_count": 49,
   "id": "3abc66db-5d3a-43de-b826-bc37ed507a44",
   "metadata": {},
   "outputs": [
    {
     "data": {
      "text/plain": [
       "Title\n",
       "1 BHK         6.674358\n",
       "10 BHK        8.111111\n",
       "2 BHK         7.982617\n",
       "3 BHK         9.113831\n",
       "4 BHK        10.346309\n",
       "5 BHK        11.796512\n",
       "6 BHK        10.433735\n",
       "7 BHK        17.071429\n",
       "8 BHK        21.000000\n",
       "9 BHK         3.714286\n",
       "Apartment    10.000000\n",
       "Builder      17.000000\n",
       "Studio        9.267399\n",
       "Name: 1, dtype: float64"
      ]
     },
     "execution_count": 49,
     "metadata": {},
     "output_type": "execute_result"
    }
   ],
   "source": [
    "cur_floor"
   ]
  },
  {
   "cell_type": "code",
   "execution_count": 50,
   "id": "53cd8481-ac25-4fa1-9357-534ce9edc585",
   "metadata": {},
   "outputs": [
    {
     "data": {
      "text/plain": [
       "Title\n",
       "1 BHK         72.0\n",
       "10 BHK        50.0\n",
       "2 BHK        200.0\n",
       "3 BHK         91.0\n",
       "4 BHK         77.0\n",
       "5 BHK         76.0\n",
       "6 BHK         91.0\n",
       "7 BHK         85.0\n",
       "8 BHK         63.0\n",
       "9 BHK          5.0\n",
       "Apartment     14.0\n",
       "Builder       17.0\n",
       "Studio        45.0\n",
       "Name: 1, dtype: float64"
      ]
     },
     "execution_count": 50,
     "metadata": {},
     "output_type": "execute_result"
    }
   ],
   "source": [
    "tot_floor"
   ]
  },
  {
   "cell_type": "code",
   "execution_count": 51,
   "id": "bab75705-24ef-4529-bc03-c82b28895f51",
   "metadata": {},
   "outputs": [
    {
     "data": {
      "text/plain": [
       "0        0\n",
       "1        0\n",
       "Title    0\n",
       "dtype: int64"
      ]
     },
     "execution_count": 51,
     "metadata": {},
     "output_type": "execute_result"
    }
   ],
   "source": [
    "d.isna().sum()"
   ]
  },
  {
   "cell_type": "code",
   "execution_count": 52,
   "id": "6d31c062-28da-4ea6-8bd5-5238e1d677bb",
   "metadata": {},
   "outputs": [],
   "source": [
    "# converting data types\n",
    "\n",
    "d[0] = d[0].astype('int64')\n",
    "d[1] = d[1].astype('int64')"
   ]
  },
  {
   "cell_type": "code",
   "execution_count": 53,
   "id": "c595f535-63ca-4813-98d7-9d04e69afe48",
   "metadata": {},
   "outputs": [
    {
     "data": {
      "text/plain": [
       "array([ 10,   3,   1,  20,   2,   4,   0,   6,  16,   8,  18,   5,  15,\n",
       "        27,  11,   9,  14,  12,   7,  21,  -1,  29,  13,  19,  17,  28,\n",
       "        30,  23,  25,  26,  24,  22,  32,  33,  -2,  40,  35,  42,  63,\n",
       "        38,  34,  60,  31,  37,  75,  70,  39,  44,  46,  36,  59,  45,\n",
       "        51,  50, 200], dtype=int64)"
      ]
     },
     "execution_count": 53,
     "metadata": {},
     "output_type": "execute_result"
    }
   ],
   "source": [
    "d[0].unique()"
   ]
  },
  {
   "cell_type": "code",
   "execution_count": 54,
   "id": "2d3930e3-fda3-40c4-8e4f-cf947c0448b5",
   "metadata": {},
   "outputs": [
    {
     "data": {
      "text/plain": [
       "array([ 11,  22,  29,   3,  42,   7,   5,   2,  27,  20,  24,  16,  28,\n",
       "        31,   8,  17,   4,  38,  19,   9,  12,  10,  30,  18,  26,  32,\n",
       "        25,  14, 200,   6,  15,  13,  35,  23,   1,  21,  36,  40,  72,\n",
       "        45,  91,  33,  34,  37,  39,  76,  77,  88,  55,  51,  44,  60,\n",
       "        54,  58,  68,  67,  41,  56,  63,  52,  47,  48,  85,  78,  43,\n",
       "        53,  50,  75,  61,  46,  84, 150,  70], dtype=int64)"
      ]
     },
     "execution_count": 54,
     "metadata": {},
     "output_type": "execute_result"
    }
   ],
   "source": [
    "d[1].unique()"
   ]
  },
  {
   "cell_type": "code",
   "execution_count": 55,
   "id": "cce83b60-46cc-4597-a7d9-15197429f418",
   "metadata": {},
   "outputs": [
    {
     "data": {
      "text/html": [
       "<div>\n",
       "<style scoped>\n",
       "    .dataframe tbody tr th:only-of-type {\n",
       "        vertical-align: middle;\n",
       "    }\n",
       "\n",
       "    .dataframe tbody tr th {\n",
       "        vertical-align: top;\n",
       "    }\n",
       "\n",
       "    .dataframe thead th {\n",
       "        text-align: right;\n",
       "    }\n",
       "</style>\n",
       "<table border=\"1\" class=\"dataframe\">\n",
       "  <thead>\n",
       "    <tr style=\"text-align: right;\">\n",
       "      <th></th>\n",
       "      <th>0</th>\n",
       "      <th>1</th>\n",
       "    </tr>\n",
       "  </thead>\n",
       "  <tbody>\n",
       "    <tr>\n",
       "      <th>0</th>\n",
       "      <td>10</td>\n",
       "      <td>11</td>\n",
       "    </tr>\n",
       "    <tr>\n",
       "      <th>1</th>\n",
       "      <td>3</td>\n",
       "      <td>22</td>\n",
       "    </tr>\n",
       "    <tr>\n",
       "      <th>2</th>\n",
       "      <td>10</td>\n",
       "      <td>29</td>\n",
       "    </tr>\n",
       "    <tr>\n",
       "      <th>3</th>\n",
       "      <td>1</td>\n",
       "      <td>3</td>\n",
       "    </tr>\n",
       "    <tr>\n",
       "      <th>4</th>\n",
       "      <td>20</td>\n",
       "      <td>42</td>\n",
       "    </tr>\n",
       "    <tr>\n",
       "      <th>...</th>\n",
       "      <td>...</td>\n",
       "      <td>...</td>\n",
       "    </tr>\n",
       "    <tr>\n",
       "      <th>187526</th>\n",
       "      <td>2</td>\n",
       "      <td>4</td>\n",
       "    </tr>\n",
       "    <tr>\n",
       "      <th>187527</th>\n",
       "      <td>4</td>\n",
       "      <td>6</td>\n",
       "    </tr>\n",
       "    <tr>\n",
       "      <th>187528</th>\n",
       "      <td>1</td>\n",
       "      <td>3</td>\n",
       "    </tr>\n",
       "    <tr>\n",
       "      <th>187529</th>\n",
       "      <td>2</td>\n",
       "      <td>2</td>\n",
       "    </tr>\n",
       "    <tr>\n",
       "      <th>187530</th>\n",
       "      <td>5</td>\n",
       "      <td>13</td>\n",
       "    </tr>\n",
       "  </tbody>\n",
       "</table>\n",
       "<p>64208 rows × 2 columns</p>\n",
       "</div>"
      ],
      "text/plain": [
       "         0   1\n",
       "0       10  11\n",
       "1        3  22\n",
       "2       10  29\n",
       "3        1   3\n",
       "4       20  42\n",
       "...     ..  ..\n",
       "187526   2   4\n",
       "187527   4   6\n",
       "187528   1   3\n",
       "187529   2   2\n",
       "187530   5  13\n",
       "\n",
       "[64208 rows x 2 columns]"
      ]
     },
     "execution_count": 55,
     "metadata": {},
     "output_type": "execute_result"
    }
   ],
   "source": [
    "d.drop(['Title'],axis = 1,inplace = True)\n",
    "d"
   ]
  },
  {
   "cell_type": "code",
   "execution_count": 56,
   "id": "e50279d2-f593-4204-b991-510603f03c17",
   "metadata": {},
   "outputs": [],
   "source": [
    "# chaning column names\n",
    "\n",
    "d.columns = ['Current_Floor','Total_Floors']"
   ]
  },
  {
   "cell_type": "code",
   "execution_count": 57,
   "id": "be5101af-267e-405e-9a05-5206e3a6ae5a",
   "metadata": {},
   "outputs": [],
   "source": [
    "# concat transformed floor data based to original dataframe data\n",
    "\n",
    "data = pd.concat([data.iloc[:,:data.columns.get_loc('Floor')+1],d,data.iloc[:,data.columns.get_loc('Floor')+1:]],axis = 1)"
   ]
  },
  {
   "cell_type": "code",
   "execution_count": 58,
   "id": "c38d0f43-b13c-4eb9-97d6-0a8ef45c2370",
   "metadata": {},
   "outputs": [],
   "source": [
    "# Droping Floor column from data\n",
    "\n",
    "data.drop(['Floor'],inplace = True,axis = 1)"
   ]
  },
  {
   "cell_type": "markdown",
   "id": "640e2aff-549b-4380-86bb-469b454f2acd",
   "metadata": {},
   "source": [
    "__Transaction Column__"
   ]
  },
  {
   "cell_type": "code",
   "execution_count": 59,
   "id": "7e878275-6fc2-4b0e-b2c0-fb0a1f6c08b9",
   "metadata": {},
   "outputs": [
    {
     "data": {
      "text/plain": [
       "array(['Resale', 'New Property', nan, 'Other', 'Rent/Lease'], dtype=object)"
      ]
     },
     "execution_count": 59,
     "metadata": {},
     "output_type": "execute_result"
    }
   ],
   "source": [
    "# checking unique values\n",
    "\n",
    "data['Transaction'].unique()"
   ]
  },
  {
   "cell_type": "code",
   "execution_count": 60,
   "id": "650655b1-211e-400d-87d8-6e6c4df47fec",
   "metadata": {},
   "outputs": [],
   "source": [
    "# filling null values with 'Not Specified text'\n",
    "\n",
    "data['Transaction'] = data['Transaction'].fillna('Not Specified')"
   ]
  },
  {
   "cell_type": "code",
   "execution_count": 61,
   "id": "596552fb-826c-4bc6-a2d6-bb0447949a24",
   "metadata": {},
   "outputs": [
    {
     "data": {
      "text/plain": [
       "array(['Resale', 'New Property', 'Not Specified', 'Other', 'Rent/Lease'],\n",
       "      dtype=object)"
      ]
     },
     "execution_count": 61,
     "metadata": {},
     "output_type": "execute_result"
    }
   ],
   "source": [
    "data['Transaction'].unique()"
   ]
  },
  {
   "cell_type": "markdown",
   "id": "783f1e03-705e-4eda-9b48-fac2cf6c6c31",
   "metadata": {},
   "source": [
    "__Furnishing__"
   ]
  },
  {
   "cell_type": "code",
   "execution_count": 62,
   "id": "56f9603f-a5f8-40cd-8103-daa9f141d544",
   "metadata": {},
   "outputs": [
    {
     "data": {
      "text/plain": [
       "array(['Unfurnished', 'Semi-Furnished', 'Furnished', nan], dtype=object)"
      ]
     },
     "execution_count": 62,
     "metadata": {},
     "output_type": "execute_result"
    }
   ],
   "source": [
    "data['Furnishing'].unique()"
   ]
  },
  {
   "cell_type": "code",
   "execution_count": 63,
   "id": "081a77f5-77d9-40fe-a053-4b8c8a212ea4",
   "metadata": {},
   "outputs": [],
   "source": [
    "# filling null values with 'Not-Mentioned'\n",
    "\n",
    "data['Furnishing'] = data['Furnishing'].fillna('Not-Mentioned')"
   ]
  },
  {
   "cell_type": "code",
   "execution_count": 64,
   "id": "40fbe8fc-d0b5-411e-bce2-b5e10c65aecb",
   "metadata": {},
   "outputs": [
    {
     "data": {
      "text/plain": [
       "array(['Unfurnished', 'Semi-Furnished', 'Furnished', 'Not-Mentioned'],\n",
       "      dtype=object)"
      ]
     },
     "execution_count": 64,
     "metadata": {},
     "output_type": "execute_result"
    }
   ],
   "source": [
    "data['Furnishing'].unique()"
   ]
  },
  {
   "cell_type": "markdown",
   "id": "5d2395be-82c7-4e0b-aace-86bc88ba2a6b",
   "metadata": {},
   "source": [
    "__facing__"
   ]
  },
  {
   "cell_type": "code",
   "execution_count": 65,
   "id": "c851ed79-31b4-448e-9f05-30b1a98d4e84",
   "metadata": {},
   "outputs": [
    {
     "data": {
      "text/plain": [
       "array([nan, 'East', 'West', 'North - East', 'North', 'North - West',\n",
       "       'South', 'South -West', 'South - East'], dtype=object)"
      ]
     },
     "execution_count": 65,
     "metadata": {},
     "output_type": "execute_result"
    }
   ],
   "source": [
    "data['facing'].unique()"
   ]
  },
  {
   "cell_type": "code",
   "execution_count": 66,
   "id": "58fc8109-8469-4c8e-9b4a-4bff4a4a0a9d",
   "metadata": {},
   "outputs": [],
   "source": [
    "# filling null values with '0'\n",
    "\n",
    "data['facing'] = data['facing'].fillna('0')"
   ]
  },
  {
   "cell_type": "code",
   "execution_count": 67,
   "id": "d4bef4a3-f8f2-4b20-bccd-4f45c351248b",
   "metadata": {},
   "outputs": [
    {
     "data": {
      "text/plain": [
       "array(['0', 'East', 'West', 'North - East', 'North', 'North - West',\n",
       "       'South', 'South -West', 'South - East'], dtype=object)"
      ]
     },
     "execution_count": 67,
     "metadata": {},
     "output_type": "execute_result"
    }
   ],
   "source": [
    "data['facing'].unique()"
   ]
  },
  {
   "cell_type": "markdown",
   "id": "f8d5c4b3-78c7-4f06-a523-ea1e79925bce",
   "metadata": {},
   "source": [
    "__Overlooking__"
   ]
  },
  {
   "cell_type": "code",
   "execution_count": 68,
   "id": "c3d0d20d-e4b8-4c66-9f15-52c53412b2b6",
   "metadata": {},
   "outputs": [
    {
     "data": {
      "text/plain": [
       "27318"
      ]
     },
     "execution_count": 68,
     "metadata": {},
     "output_type": "execute_result"
    }
   ],
   "source": [
    "data['overlooking'].isna().sum()"
   ]
  },
  {
   "cell_type": "code",
   "execution_count": 69,
   "id": "efcf1dfb-34a0-4b2c-9a4a-dd99114511c9",
   "metadata": {},
   "outputs": [
    {
     "data": {
      "text/plain": [
       "array([nan, 'Garden/Park', 'Garden/Park, Main Road', 'Main Road',\n",
       "       'Pool, Garden/Park, Main Road', 'Garden/Park, Pool, Main Road',\n",
       "       'Garden/Park, Pool', 'Main Road, Garden/Park',\n",
       "       'Main Road, Garden/Park, Pool', 'Pool, Garden/Park', 'Pool',\n",
       "       'Garden/Park, Main Road, Pool', 'Pool, Main Road',\n",
       "       'Main Road, Pool, Garden/Park', 'Pool, Main Road, Garden/Park',\n",
       "       'Main Road, Not Available', 'Main Road, Pool',\n",
       "       'Garden/Park, Not Available', 'Pool, Main Road, Not Available'],\n",
       "      dtype=object)"
      ]
     },
     "execution_count": 69,
     "metadata": {},
     "output_type": "execute_result"
    }
   ],
   "source": [
    "data['overlooking'].unique()"
   ]
  },
  {
   "cell_type": "code",
   "execution_count": 70,
   "id": "eacf18fe-e86f-4757-a89d-d0ff52de62b9",
   "metadata": {},
   "outputs": [],
   "source": [
    "# sorting values based on first or each text\n",
    "# removing \"Not Available\"\n",
    "\n",
    "def sortvalues(text):\n",
    "    if pd.isna(text):\n",
    "        return text\n",
    "    items = [i.strip() for i in text.split(',')]\n",
    "    if \"Not Available\" in items:\n",
    "        items.remove(\"Not Available\")\n",
    "    items.sort(key = lambda x : x[0].lower())\n",
    "    return ','.join(items)"
   ]
  },
  {
   "cell_type": "code",
   "execution_count": 71,
   "id": "817e5ad4-1113-4e00-86e4-cfc57badcbb5",
   "metadata": {},
   "outputs": [],
   "source": [
    "# applying sortvalues function\n",
    "\n",
    "data['overlooking'] = data['overlooking'].apply(sortvalues)\n"
   ]
  },
  {
   "cell_type": "code",
   "execution_count": 72,
   "id": "143c59b5-1a96-4fb3-a8de-193b2e5cc6ac",
   "metadata": {},
   "outputs": [],
   "source": [
    "# filling null values with 'Space'\n",
    "\n",
    "data['overlooking'] = data['overlooking'].fillna(\"Space\")"
   ]
  },
  {
   "cell_type": "code",
   "execution_count": 73,
   "id": "ddd727e3-205a-4d7a-be95-d97e1b9b2140",
   "metadata": {},
   "outputs": [
    {
     "data": {
      "text/plain": [
       "array(['Space', 'Garden/Park', 'Garden/Park,Main Road', 'Main Road',\n",
       "       'Garden/Park,Main Road,Pool', 'Garden/Park,Pool', 'Pool',\n",
       "       'Main Road,Pool'], dtype=object)"
      ]
     },
     "execution_count": 73,
     "metadata": {},
     "output_type": "execute_result"
    }
   ],
   "source": [
    "data['overlooking'].unique()"
   ]
  },
  {
   "cell_type": "markdown",
   "id": "ca4cdca9-d5f2-4af0-972b-d2b654206ed1",
   "metadata": {},
   "source": [
    "__Bathroom Column__"
   ]
  },
  {
   "cell_type": "code",
   "execution_count": 74,
   "id": "cc2072bc-044e-4ed4-af22-1c4934b23677",
   "metadata": {},
   "outputs": [
    {
     "data": {
      "text/plain": [
       "array(['1', '2', '3', '4', '6', nan, '5', '9', '8', '> 10', '7', '10'],\n",
       "      dtype=object)"
      ]
     },
     "execution_count": 74,
     "metadata": {},
     "output_type": "execute_result"
    }
   ],
   "source": [
    "data['Bathroom'].unique()"
   ]
  },
  {
   "cell_type": "code",
   "execution_count": 75,
   "id": "fe863353-5637-4ca3-aa69-4b1393279be8",
   "metadata": {},
   "outputs": [],
   "source": [
    "# filling null values with '0'\n",
    "\n",
    "data['Bathroom'] = data['Bathroom'].fillna(0)"
   ]
  },
  {
   "cell_type": "code",
   "execution_count": 76,
   "id": "3084f92d-5bd1-410f-9e09-cd084870338d",
   "metadata": {},
   "outputs": [],
   "source": [
    "d = data[data['Bathroom'] != '> 10']['Bathroom']\n",
    "d = d.astype('float64')\n"
   ]
  },
  {
   "cell_type": "code",
   "execution_count": 77,
   "id": "c8a9cc92-a58b-4b43-a513-c2da414cf2bd",
   "metadata": {},
   "outputs": [],
   "source": [
    "# filling > 10 with  10 + avg of (exclude > 10)\n",
    "\n",
    "data['Bathroom'] = np.where(data['Bathroom'] == '> 10',10+round(d.mean(),0),data['Bathroom'])"
   ]
  },
  {
   "cell_type": "code",
   "execution_count": 78,
   "id": "1d43caa2-0e83-4af3-ab13-932a9c935ab4",
   "metadata": {},
   "outputs": [
    {
     "data": {
      "text/plain": [
       "array(['1', '2', '3', '4', '6', 0, '5', '9', '8', 12.0, '7', '10'],\n",
       "      dtype=object)"
      ]
     },
     "execution_count": 78,
     "metadata": {},
     "output_type": "execute_result"
    }
   ],
   "source": [
    "data['Bathroom'].unique()"
   ]
  },
  {
   "cell_type": "code",
   "execution_count": 79,
   "id": "f5fe74a3-bc16-41cb-a79a-3de898e798a2",
   "metadata": {},
   "outputs": [],
   "source": [
    "data['Bathroom'] = data['Bathroom'].astype('int64')"
   ]
  },
  {
   "cell_type": "markdown",
   "id": "054e653c-4cc2-48e5-893d-3dee2f589be7",
   "metadata": {},
   "source": [
    "__Balcony Column__"
   ]
  },
  {
   "cell_type": "code",
   "execution_count": 80,
   "id": "3803bdd2-9919-4d77-943e-4dba4827cc2b",
   "metadata": {},
   "outputs": [
    {
     "data": {
      "text/plain": [
       "array(['2', nan, '1', '3', '4', '6', '5', '7', '> 10', '10', '8', '9'],\n",
       "      dtype=object)"
      ]
     },
     "execution_count": 80,
     "metadata": {},
     "output_type": "execute_result"
    }
   ],
   "source": [
    "data['Balcony'].unique()"
   ]
  },
  {
   "cell_type": "code",
   "execution_count": 81,
   "id": "ccaa30b8-3884-4d95-ae13-6df430f9dacf",
   "metadata": {},
   "outputs": [],
   "source": [
    "data['Balcony'] = data['Balcony'].fillna('0')"
   ]
  },
  {
   "cell_type": "code",
   "execution_count": 82,
   "id": "8b138e3b-3fd6-4cff-8ce2-a4291f6d206f",
   "metadata": {},
   "outputs": [],
   "source": [
    "# filling > 10 with  10 + avg of (exclude > 10)\n",
    "\n",
    "data['Balcony'] = np.where(data['Balcony'] == '> 10',10+round(d.mean(),0),data['Balcony'])"
   ]
  },
  {
   "cell_type": "code",
   "execution_count": 83,
   "id": "f841e189-3558-4878-96d6-cd06e9b5c671",
   "metadata": {},
   "outputs": [],
   "source": [
    "data['Balcony'] = data['Balcony'].astype('int64')"
   ]
  },
  {
   "cell_type": "markdown",
   "id": "9ac75cef-f019-4bc6-b176-b1133e5f8315",
   "metadata": {},
   "source": [
    "__Car Parking__"
   ]
  },
  {
   "cell_type": "code",
   "execution_count": 84,
   "id": "06fd76cd-791f-4218-85fa-ef9d9990e666",
   "metadata": {},
   "outputs": [
    {
     "data": {
      "text/plain": [
       "36889"
      ]
     },
     "execution_count": 84,
     "metadata": {},
     "output_type": "execute_result"
    }
   ],
   "source": [
    "data['Car Parking'].isna().sum()"
   ]
  },
  {
   "cell_type": "code",
   "execution_count": 85,
   "id": "2a01eb7b-2604-465e-9b9f-1c47731d2175",
   "metadata": {},
   "outputs": [],
   "source": [
    "d = data['Car Parking'].str.strip().str.extract(r'(\\d+)\\s*(Covered|Open)', expand=True)\n",
    "d[\"Covered_Parking\"] = np.where(d[1] == \"Covered\",d[0],np.nan)\n",
    "d[\"Open_Parking\"] = np.where(d[1] == 'Open',d[0],np.nan)"
   ]
  },
  {
   "cell_type": "code",
   "execution_count": 86,
   "id": "dbc56fa9-04ca-46c8-b302-dcd9ffe32726",
   "metadata": {},
   "outputs": [
    {
     "data": {
      "text/plain": [
       "60461"
      ]
     },
     "execution_count": 86,
     "metadata": {},
     "output_type": "execute_result"
    }
   ],
   "source": [
    "d['Open_Parking'].isna().sum()"
   ]
  },
  {
   "cell_type": "code",
   "execution_count": 87,
   "id": "3a13da76-f805-4d56-a680-a9d7410cf347",
   "metadata": {},
   "outputs": [
    {
     "data": {
      "text/html": [
       "<div>\n",
       "<style scoped>\n",
       "    .dataframe tbody tr th:only-of-type {\n",
       "        vertical-align: middle;\n",
       "    }\n",
       "\n",
       "    .dataframe tbody tr th {\n",
       "        vertical-align: top;\n",
       "    }\n",
       "\n",
       "    .dataframe thead th {\n",
       "        text-align: right;\n",
       "    }\n",
       "</style>\n",
       "<table border=\"1\" class=\"dataframe\">\n",
       "  <thead>\n",
       "    <tr style=\"text-align: right;\">\n",
       "      <th></th>\n",
       "      <th>0</th>\n",
       "      <th>1</th>\n",
       "      <th>Covered_Parking</th>\n",
       "      <th>Open_Parking</th>\n",
       "    </tr>\n",
       "  </thead>\n",
       "  <tbody>\n",
       "    <tr>\n",
       "      <th>0</th>\n",
       "      <td>NaN</td>\n",
       "      <td>NaN</td>\n",
       "      <td>NaN</td>\n",
       "      <td>NaN</td>\n",
       "    </tr>\n",
       "    <tr>\n",
       "      <th>1</th>\n",
       "      <td>1</td>\n",
       "      <td>Open</td>\n",
       "      <td>NaN</td>\n",
       "      <td>1</td>\n",
       "    </tr>\n",
       "    <tr>\n",
       "      <th>2</th>\n",
       "      <td>1</td>\n",
       "      <td>Covered</td>\n",
       "      <td>1</td>\n",
       "      <td>NaN</td>\n",
       "    </tr>\n",
       "    <tr>\n",
       "      <th>3</th>\n",
       "      <td>NaN</td>\n",
       "      <td>NaN</td>\n",
       "      <td>NaN</td>\n",
       "      <td>NaN</td>\n",
       "    </tr>\n",
       "    <tr>\n",
       "      <th>4</th>\n",
       "      <td>1</td>\n",
       "      <td>Covered</td>\n",
       "      <td>1</td>\n",
       "      <td>NaN</td>\n",
       "    </tr>\n",
       "    <tr>\n",
       "      <th>...</th>\n",
       "      <td>...</td>\n",
       "      <td>...</td>\n",
       "      <td>...</td>\n",
       "      <td>...</td>\n",
       "    </tr>\n",
       "    <tr>\n",
       "      <th>187526</th>\n",
       "      <td>1</td>\n",
       "      <td>Covered</td>\n",
       "      <td>1</td>\n",
       "      <td>NaN</td>\n",
       "    </tr>\n",
       "    <tr>\n",
       "      <th>187527</th>\n",
       "      <td>1</td>\n",
       "      <td>Covered</td>\n",
       "      <td>1</td>\n",
       "      <td>NaN</td>\n",
       "    </tr>\n",
       "    <tr>\n",
       "      <th>187528</th>\n",
       "      <td>1</td>\n",
       "      <td>Covered</td>\n",
       "      <td>1</td>\n",
       "      <td>NaN</td>\n",
       "    </tr>\n",
       "    <tr>\n",
       "      <th>187529</th>\n",
       "      <td>NaN</td>\n",
       "      <td>NaN</td>\n",
       "      <td>NaN</td>\n",
       "      <td>NaN</td>\n",
       "    </tr>\n",
       "    <tr>\n",
       "      <th>187530</th>\n",
       "      <td>1</td>\n",
       "      <td>Covered</td>\n",
       "      <td>1</td>\n",
       "      <td>NaN</td>\n",
       "    </tr>\n",
       "  </tbody>\n",
       "</table>\n",
       "<p>64208 rows × 4 columns</p>\n",
       "</div>"
      ],
      "text/plain": [
       "          0        1 Covered_Parking Open_Parking\n",
       "0       NaN      NaN             NaN          NaN\n",
       "1         1     Open             NaN            1\n",
       "2         1  Covered               1          NaN\n",
       "3       NaN      NaN             NaN          NaN\n",
       "4         1  Covered               1          NaN\n",
       "...     ...      ...             ...          ...\n",
       "187526    1  Covered               1          NaN\n",
       "187527    1  Covered               1          NaN\n",
       "187528    1  Covered               1          NaN\n",
       "187529  NaN      NaN             NaN          NaN\n",
       "187530    1  Covered               1          NaN\n",
       "\n",
       "[64208 rows x 4 columns]"
      ]
     },
     "execution_count": 87,
     "metadata": {},
     "output_type": "execute_result"
    }
   ],
   "source": [
    "d"
   ]
  },
  {
   "cell_type": "code",
   "execution_count": 88,
   "id": "1d701fa8-b224-4ae5-abec-5e5dd15da024",
   "metadata": {},
   "outputs": [],
   "source": [
    "d.drop([0,1],axis = 1,inplace = True)"
   ]
  },
  {
   "cell_type": "code",
   "execution_count": 89,
   "id": "044d64fc-e516-4f5f-932d-59dd1c7750f5",
   "metadata": {},
   "outputs": [],
   "source": [
    "d = pd.concat([d['Covered_Parking'],d['Open_Parking'],data['Title']],axis = 1)"
   ]
  },
  {
   "cell_type": "code",
   "execution_count": 223,
   "id": "2848115d-2dff-47ca-b04d-1ee72a5e30c7",
   "metadata": {},
   "outputs": [
    {
     "data": {
      "text/html": [
       "<div>\n",
       "<style scoped>\n",
       "    .dataframe tbody tr th:only-of-type {\n",
       "        vertical-align: middle;\n",
       "    }\n",
       "\n",
       "    .dataframe tbody tr th {\n",
       "        vertical-align: top;\n",
       "    }\n",
       "\n",
       "    .dataframe thead th {\n",
       "        text-align: right;\n",
       "    }\n",
       "</style>\n",
       "<table border=\"1\" class=\"dataframe\">\n",
       "  <thead>\n",
       "    <tr style=\"text-align: right;\">\n",
       "      <th></th>\n",
       "      <th>Super Area</th>\n",
       "    </tr>\n",
       "  </thead>\n",
       "  <tbody>\n",
       "    <tr>\n",
       "      <th>0</th>\n",
       "      <td>543.529539</td>\n",
       "    </tr>\n",
       "    <tr>\n",
       "      <th>1</th>\n",
       "      <td>987.789205</td>\n",
       "    </tr>\n",
       "    <tr>\n",
       "      <th>2</th>\n",
       "      <td>987.789205</td>\n",
       "    </tr>\n",
       "    <tr>\n",
       "      <th>3</th>\n",
       "      <td>543.529539</td>\n",
       "    </tr>\n",
       "    <tr>\n",
       "      <th>4</th>\n",
       "      <td>987.789205</td>\n",
       "    </tr>\n",
       "    <tr>\n",
       "      <th>...</th>\n",
       "      <td>...</td>\n",
       "    </tr>\n",
       "    <tr>\n",
       "      <th>187526</th>\n",
       "      <td>1953.000000</td>\n",
       "    </tr>\n",
       "    <tr>\n",
       "      <th>187527</th>\n",
       "      <td>1680.000000</td>\n",
       "    </tr>\n",
       "    <tr>\n",
       "      <th>187528</th>\n",
       "      <td>1570.225804</td>\n",
       "    </tr>\n",
       "    <tr>\n",
       "      <th>187529</th>\n",
       "      <td>709.000000</td>\n",
       "    </tr>\n",
       "    <tr>\n",
       "      <th>187530</th>\n",
       "      <td>1915.000000</td>\n",
       "    </tr>\n",
       "  </tbody>\n",
       "</table>\n",
       "<p>64208 rows × 1 columns</p>\n",
       "</div>"
      ],
      "text/plain": [
       "         Super Area\n",
       "0        543.529539\n",
       "1        987.789205\n",
       "2        987.789205\n",
       "3        543.529539\n",
       "4        987.789205\n",
       "...             ...\n",
       "187526  1953.000000\n",
       "187527  1680.000000\n",
       "187528  1570.225804\n",
       "187529   709.000000\n",
       "187530  1915.000000\n",
       "\n",
       "[64208 rows x 1 columns]"
      ]
     },
     "execution_count": 223,
     "metadata": {},
     "output_type": "execute_result"
    }
   ],
   "source": [
    "d"
   ]
  },
  {
   "cell_type": "code",
   "execution_count": 91,
   "id": "e9d22a02-a5d2-4d7c-87b9-2dbe9e968a06",
   "metadata": {},
   "outputs": [],
   "source": [
    "# converting data type into float and filling null values with avg\n",
    "\n",
    "d['Open_Parking'] = d['Open_Parking'].astype('float64')\n",
    "d[\"Covered_Parking\"] = d[\"Covered_Parking\"].astype('float64')\n",
    "\n",
    "op_avg = d.groupby('Title')['Open_Parking'].mean()\n",
    "cp_avg = d.groupby('Title')['Covered_Parking'].mean()\n",
    "\n",
    "op_avg = op_avg.fillna(0)\n",
    "cp_avg = cp_avg.fillna(0)\n",
    "\n",
    "d['Open_Parking'] = d['Open_Parking'].fillna(d['Title'].map(op_avg))\n",
    "d[\"Covered_Parking\"] = d[\"Covered_Parking\"].fillna(d['Title'].map(cp_avg))\n",
    "\n",
    "# converting into integer\n",
    "d['Open_Parking'] = d['Open_Parking'].astype('int64')\n",
    "d[\"Covered_Parking\"] = d[\"Covered_Parking\"].astype('int64')"
   ]
  },
  {
   "cell_type": "code",
   "execution_count": 92,
   "id": "c0556ab5-69e8-4f2d-bbfe-967a7eddd1ae",
   "metadata": {},
   "outputs": [
    {
     "data": {
      "text/plain": [
       "Title\n",
       "1 BHK        7.811419\n",
       "10 BHK       8.000000\n",
       "2 BHK        7.374168\n",
       "3 BHK        4.758321\n",
       "4 BHK        2.085106\n",
       "5 BHK        1.692308\n",
       "6 BHK        4.500000\n",
       "7 BHK        3.000000\n",
       "8 BHK        0.000000\n",
       "9 BHK        0.000000\n",
       "Apartment    1.000000\n",
       "Builder      0.000000\n",
       "Studio       4.483871\n",
       "Name: Open_Parking, dtype: float64"
      ]
     },
     "execution_count": 92,
     "metadata": {},
     "output_type": "execute_result"
    }
   ],
   "source": [
    "op_avg"
   ]
  },
  {
   "cell_type": "code",
   "execution_count": 93,
   "id": "b75eff95-422e-4105-8961-2c4776b07b09",
   "metadata": {},
   "outputs": [
    {
     "data": {
      "text/html": [
       "<div>\n",
       "<style scoped>\n",
       "    .dataframe tbody tr th:only-of-type {\n",
       "        vertical-align: middle;\n",
       "    }\n",
       "\n",
       "    .dataframe tbody tr th {\n",
       "        vertical-align: top;\n",
       "    }\n",
       "\n",
       "    .dataframe thead th {\n",
       "        text-align: right;\n",
       "    }\n",
       "</style>\n",
       "<table border=\"1\" class=\"dataframe\">\n",
       "  <thead>\n",
       "    <tr style=\"text-align: right;\">\n",
       "      <th></th>\n",
       "      <th>Covered_Parking</th>\n",
       "      <th>Open_Parking</th>\n",
       "    </tr>\n",
       "  </thead>\n",
       "  <tbody>\n",
       "    <tr>\n",
       "      <th>0</th>\n",
       "      <td>6</td>\n",
       "      <td>7</td>\n",
       "    </tr>\n",
       "    <tr>\n",
       "      <th>1</th>\n",
       "      <td>4</td>\n",
       "      <td>1</td>\n",
       "    </tr>\n",
       "    <tr>\n",
       "      <th>2</th>\n",
       "      <td>1</td>\n",
       "      <td>7</td>\n",
       "    </tr>\n",
       "    <tr>\n",
       "      <th>3</th>\n",
       "      <td>6</td>\n",
       "      <td>7</td>\n",
       "    </tr>\n",
       "    <tr>\n",
       "      <th>4</th>\n",
       "      <td>1</td>\n",
       "      <td>7</td>\n",
       "    </tr>\n",
       "    <tr>\n",
       "      <th>...</th>\n",
       "      <td>...</td>\n",
       "      <td>...</td>\n",
       "    </tr>\n",
       "    <tr>\n",
       "      <th>187526</th>\n",
       "      <td>1</td>\n",
       "      <td>4</td>\n",
       "    </tr>\n",
       "    <tr>\n",
       "      <th>187527</th>\n",
       "      <td>1</td>\n",
       "      <td>4</td>\n",
       "    </tr>\n",
       "    <tr>\n",
       "      <th>187528</th>\n",
       "      <td>1</td>\n",
       "      <td>4</td>\n",
       "    </tr>\n",
       "    <tr>\n",
       "      <th>187529</th>\n",
       "      <td>4</td>\n",
       "      <td>7</td>\n",
       "    </tr>\n",
       "    <tr>\n",
       "      <th>187530</th>\n",
       "      <td>1</td>\n",
       "      <td>4</td>\n",
       "    </tr>\n",
       "  </tbody>\n",
       "</table>\n",
       "<p>64208 rows × 2 columns</p>\n",
       "</div>"
      ],
      "text/plain": [
       "        Covered_Parking  Open_Parking\n",
       "0                     6             7\n",
       "1                     4             1\n",
       "2                     1             7\n",
       "3                     6             7\n",
       "4                     1             7\n",
       "...                 ...           ...\n",
       "187526                1             4\n",
       "187527                1             4\n",
       "187528                1             4\n",
       "187529                4             7\n",
       "187530                1             4\n",
       "\n",
       "[64208 rows x 2 columns]"
      ]
     },
     "execution_count": 93,
     "metadata": {},
     "output_type": "execute_result"
    }
   ],
   "source": [
    "d.drop(\"Title\",axis = 1,inplace = True)\n",
    "d"
   ]
  },
  {
   "cell_type": "code",
   "execution_count": 94,
   "id": "813efbdd-d038-4e71-b6d9-034cc823dc7d",
   "metadata": {},
   "outputs": [
    {
     "data": {
      "text/plain": [
       "13"
      ]
     },
     "execution_count": 94,
     "metadata": {},
     "output_type": "execute_result"
    }
   ],
   "source": [
    "data.columns.get_loc('Car Parking')"
   ]
  },
  {
   "cell_type": "code",
   "execution_count": 95,
   "id": "a665be64-8ead-406b-8b3a-bbc0c76e12ac",
   "metadata": {},
   "outputs": [],
   "source": [
    "data = pd.concat([data.iloc[:,:data.columns.get_loc('Car Parking')+1],d,data.iloc[:,data.columns.get_loc('Car Parking')+1:]],axis = 1)"
   ]
  },
  {
   "cell_type": "code",
   "execution_count": 96,
   "id": "c67603ca-e631-45d4-9f7a-073fde42496e",
   "metadata": {},
   "outputs": [],
   "source": [
    "data.drop('Car Parking',axis = 1,inplace = True)"
   ]
  },
  {
   "cell_type": "code",
   "execution_count": 97,
   "id": "ea367af9-d3da-4134-a06d-14fdeadb1fda",
   "metadata": {},
   "outputs": [
    {
     "data": {
      "text/html": [
       "<div>\n",
       "<style scoped>\n",
       "    .dataframe tbody tr th:only-of-type {\n",
       "        vertical-align: middle;\n",
       "    }\n",
       "\n",
       "    .dataframe tbody tr th {\n",
       "        vertical-align: top;\n",
       "    }\n",
       "\n",
       "    .dataframe thead th {\n",
       "        text-align: right;\n",
       "    }\n",
       "</style>\n",
       "<table border=\"1\" class=\"dataframe\">\n",
       "  <thead>\n",
       "    <tr style=\"text-align: right;\">\n",
       "      <th></th>\n",
       "      <th>Title</th>\n",
       "      <th>Amount(in rupees)</th>\n",
       "      <th>location</th>\n",
       "      <th>Carpet Area</th>\n",
       "      <th>Status</th>\n",
       "      <th>Current_Floor</th>\n",
       "      <th>Total_Floors</th>\n",
       "      <th>Transaction</th>\n",
       "      <th>Furnishing</th>\n",
       "      <th>facing</th>\n",
       "      <th>overlooking</th>\n",
       "      <th>Bathroom</th>\n",
       "      <th>Balcony</th>\n",
       "      <th>Covered_Parking</th>\n",
       "      <th>Open_Parking</th>\n",
       "      <th>Ownership</th>\n",
       "      <th>Super Area</th>\n",
       "    </tr>\n",
       "  </thead>\n",
       "  <tbody>\n",
       "    <tr>\n",
       "      <th>0</th>\n",
       "      <td>1 BHK</td>\n",
       "      <td>4200000.0</td>\n",
       "      <td>thane</td>\n",
       "      <td>500.0</td>\n",
       "      <td>Ready to Move</td>\n",
       "      <td>10</td>\n",
       "      <td>11</td>\n",
       "      <td>Resale</td>\n",
       "      <td>Unfurnished</td>\n",
       "      <td>0</td>\n",
       "      <td>Space</td>\n",
       "      <td>1</td>\n",
       "      <td>2</td>\n",
       "      <td>6</td>\n",
       "      <td>7</td>\n",
       "      <td>NaN</td>\n",
       "      <td>NaN</td>\n",
       "    </tr>\n",
       "    <tr>\n",
       "      <th>1</th>\n",
       "      <td>2 BHK</td>\n",
       "      <td>9800000.0</td>\n",
       "      <td>thane</td>\n",
       "      <td>473.0</td>\n",
       "      <td>Ready to Move</td>\n",
       "      <td>3</td>\n",
       "      <td>22</td>\n",
       "      <td>Resale</td>\n",
       "      <td>Semi-Furnished</td>\n",
       "      <td>East</td>\n",
       "      <td>Garden/Park</td>\n",
       "      <td>2</td>\n",
       "      <td>0</td>\n",
       "      <td>4</td>\n",
       "      <td>1</td>\n",
       "      <td>Freehold</td>\n",
       "      <td>NaN</td>\n",
       "    </tr>\n",
       "    <tr>\n",
       "      <th>2</th>\n",
       "      <td>2 BHK</td>\n",
       "      <td>14000000.0</td>\n",
       "      <td>thane</td>\n",
       "      <td>779.0</td>\n",
       "      <td>Ready to Move</td>\n",
       "      <td>10</td>\n",
       "      <td>29</td>\n",
       "      <td>Resale</td>\n",
       "      <td>Unfurnished</td>\n",
       "      <td>East</td>\n",
       "      <td>Garden/Park</td>\n",
       "      <td>2</td>\n",
       "      <td>0</td>\n",
       "      <td>1</td>\n",
       "      <td>7</td>\n",
       "      <td>Freehold</td>\n",
       "      <td>NaN</td>\n",
       "    </tr>\n",
       "    <tr>\n",
       "      <th>3</th>\n",
       "      <td>1 BHK</td>\n",
       "      <td>2500000.0</td>\n",
       "      <td>thane</td>\n",
       "      <td>530.0</td>\n",
       "      <td>Ready to Move</td>\n",
       "      <td>1</td>\n",
       "      <td>3</td>\n",
       "      <td>Resale</td>\n",
       "      <td>Unfurnished</td>\n",
       "      <td>0</td>\n",
       "      <td>Space</td>\n",
       "      <td>1</td>\n",
       "      <td>1</td>\n",
       "      <td>6</td>\n",
       "      <td>7</td>\n",
       "      <td>NaN</td>\n",
       "      <td>NaN</td>\n",
       "    </tr>\n",
       "    <tr>\n",
       "      <th>4</th>\n",
       "      <td>2 BHK</td>\n",
       "      <td>16000000.0</td>\n",
       "      <td>thane</td>\n",
       "      <td>635.0</td>\n",
       "      <td>Ready to Move</td>\n",
       "      <td>20</td>\n",
       "      <td>42</td>\n",
       "      <td>Resale</td>\n",
       "      <td>Unfurnished</td>\n",
       "      <td>West</td>\n",
       "      <td>Garden/Park,Main Road</td>\n",
       "      <td>2</td>\n",
       "      <td>0</td>\n",
       "      <td>1</td>\n",
       "      <td>7</td>\n",
       "      <td>Co-operative Society</td>\n",
       "      <td>NaN</td>\n",
       "    </tr>\n",
       "  </tbody>\n",
       "</table>\n",
       "</div>"
      ],
      "text/plain": [
       "   Title  Amount(in rupees) location  Carpet Area         Status  \\\n",
       "0  1 BHK          4200000.0    thane        500.0  Ready to Move   \n",
       "1  2 BHK          9800000.0    thane        473.0  Ready to Move   \n",
       "2  2 BHK         14000000.0    thane        779.0  Ready to Move   \n",
       "3  1 BHK          2500000.0    thane        530.0  Ready to Move   \n",
       "4  2 BHK         16000000.0    thane        635.0  Ready to Move   \n",
       "\n",
       "   Current_Floor  Total_Floors Transaction      Furnishing facing  \\\n",
       "0             10            11      Resale     Unfurnished      0   \n",
       "1              3            22      Resale  Semi-Furnished   East   \n",
       "2             10            29      Resale     Unfurnished   East   \n",
       "3              1             3      Resale     Unfurnished      0   \n",
       "4             20            42      Resale     Unfurnished   West   \n",
       "\n",
       "             overlooking  Bathroom  Balcony  Covered_Parking  Open_Parking  \\\n",
       "0                  Space         1        2                6             7   \n",
       "1            Garden/Park         2        0                4             1   \n",
       "2            Garden/Park         2        0                1             7   \n",
       "3                  Space         1        1                6             7   \n",
       "4  Garden/Park,Main Road         2        0                1             7   \n",
       "\n",
       "              Ownership Super Area  \n",
       "0                   NaN        NaN  \n",
       "1              Freehold        NaN  \n",
       "2              Freehold        NaN  \n",
       "3                   NaN        NaN  \n",
       "4  Co-operative Society        NaN  "
      ]
     },
     "execution_count": 97,
     "metadata": {},
     "output_type": "execute_result"
    }
   ],
   "source": [
    "data.head()"
   ]
  },
  {
   "cell_type": "markdown",
   "id": "77821df3-cf6c-4ea4-91a3-e4ec80cf1947",
   "metadata": {},
   "source": [
    "__Ownership Column__"
   ]
  },
  {
   "cell_type": "code",
   "execution_count": 98,
   "id": "2f94183c-ac9d-495c-9254-e8587c180063",
   "metadata": {},
   "outputs": [
    {
     "data": {
      "text/plain": [
       "array([nan, 'Freehold', 'Co-operative Society', 'Power Of Attorney',\n",
       "       'Leasehold'], dtype=object)"
      ]
     },
     "execution_count": 98,
     "metadata": {},
     "output_type": "execute_result"
    }
   ],
   "source": [
    "data['Ownership'].unique()"
   ]
  },
  {
   "cell_type": "code",
   "execution_count": 99,
   "id": "59b18b86-8a56-4e9e-a253-9dd30e1c9c07",
   "metadata": {},
   "outputs": [],
   "source": [
    "# filling null values with 'No Info'\n",
    "\n",
    "data['Ownership'] = data['Ownership'].fillna('No Info')"
   ]
  },
  {
   "cell_type": "code",
   "execution_count": 100,
   "id": "72ade43a-3b00-4eef-8b9b-76c3fc3e8473",
   "metadata": {},
   "outputs": [
    {
     "data": {
      "text/plain": [
       "array(['No Info', 'Freehold', 'Co-operative Society', 'Power Of Attorney',\n",
       "       'Leasehold'], dtype=object)"
      ]
     },
     "execution_count": 100,
     "metadata": {},
     "output_type": "execute_result"
    }
   ],
   "source": [
    "data['Ownership'].unique()"
   ]
  },
  {
   "cell_type": "markdown",
   "id": "3ce92b91-9842-42c4-8d66-e19751c87e22",
   "metadata": {},
   "source": [
    "__Super Area__"
   ]
  },
  {
   "cell_type": "code",
   "execution_count": 101,
   "id": "189501aa-8250-4321-bc83-76c08da03008",
   "metadata": {},
   "outputs": [
    {
     "data": {
      "text/plain": [
       "array([nan, '680 sqft', '575 sqft', ..., '2066 sqft', '406 sqft',\n",
       "       '2332 sqft'], dtype=object)"
      ]
     },
     "execution_count": 101,
     "metadata": {},
     "output_type": "execute_result"
    }
   ],
   "source": [
    "data['Super Area'].unique()"
   ]
  },
  {
   "cell_type": "code",
   "execution_count": 102,
   "id": "5ee8258b-0cab-4f7e-beb3-28112c2f1208",
   "metadata": {},
   "outputs": [],
   "source": [
    "# removing spaces over the text\n",
    "\n",
    "data['Super Area'] = data['Super Area'].str.strip()"
   ]
  },
  {
   "cell_type": "code",
   "execution_count": 103,
   "id": "059daac3-3817-443d-934e-f75b98a91712",
   "metadata": {},
   "outputs": [],
   "source": [
    "# remove sqft in carpet area column and filling null values with average\n",
    "\n",
    "d = data['Super Area'].str.extract(r'(\\d+)',expand = False)\n",
    "d = d.astype('float64')\n",
    "d = pd.concat([d,data['Title']],axis = 1)\n",
    "super_title_avg = d.groupby('Title')['Super Area'].mean()\n",
    "d['Super Area'] = d['Super Area'].fillna(d['Title'].map(super_title_avg))\n",
    "d.drop('Title',axis = 1,inplace = True)\n",
    "data['Super Area'] = d"
   ]
  },
  {
   "cell_type": "code",
   "execution_count": 104,
   "id": "503ac743-c8e5-4f56-a0b0-59ea388668b2",
   "metadata": {},
   "outputs": [
    {
     "data": {
      "text/plain": [
       "Title\n",
       "1 BHK         543.529539\n",
       "10 BHK       3017.450000\n",
       "2 BHK         987.789205\n",
       "3 BHK        1570.225804\n",
       "4 BHK        2730.419435\n",
       "5 BHK        3964.594203\n",
       "6 BHK        3262.595238\n",
       "7 BHK        4463.375000\n",
       "8 BHK        4090.428571\n",
       "9 BHK        3088.285714\n",
       "Apartment    3059.000000\n",
       "Builder       555.000000\n",
       "Studio        415.920863\n",
       "Name: Super Area, dtype: float64"
      ]
     },
     "execution_count": 104,
     "metadata": {},
     "output_type": "execute_result"
    }
   ],
   "source": [
    "super_title_avg"
   ]
  },
  {
   "cell_type": "code",
   "execution_count": 105,
   "id": "853ea30f-6e6d-40b9-8d22-6ea1c3b177c0",
   "metadata": {},
   "outputs": [
    {
     "data": {
      "text/plain": [
       "Title                0\n",
       "Amount(in rupees)    0\n",
       "location             0\n",
       "Carpet Area          0\n",
       "Status               0\n",
       "Current_Floor        0\n",
       "Total_Floors         0\n",
       "Transaction          0\n",
       "Furnishing           0\n",
       "facing               0\n",
       "overlooking          0\n",
       "Bathroom             0\n",
       "Balcony              0\n",
       "Covered_Parking      0\n",
       "Open_Parking         0\n",
       "Ownership            0\n",
       "Super Area           0\n",
       "dtype: int64"
      ]
     },
     "execution_count": 105,
     "metadata": {},
     "output_type": "execute_result"
    }
   ],
   "source": [
    "data.isna().sum()"
   ]
  },
  {
   "cell_type": "markdown",
   "id": "26563878-bbbf-4463-bc3f-9fb0929cc12c",
   "metadata": {},
   "source": [
    "  __columns      -     Null values filler__\n",
    "\n",
    "1. Carpet Area\t\t-    average(as per title) - (float)\n",
    "2. Status\t\t\t-    'Not Mentioned'\n",
    "3. Current_Floor\t-\t average(as per title) - float\n",
    "4. Total_Floors\t    -\t max(as per title) - float\n",
    "5. Transaction\t\t-    'Not Specified'\n",
    "6. Furnishing\t\t-    'Not-Mentioned'\n",
    "7. Facing\t\t\t-    '0'\n",
    "8. Overlooking\t\t-    'Space'\n",
    "9. Bathroom\t\t    -    0\n",
    "10. Balcony\t\t\t-    0\n",
    "11. Covered_Parking\t-\t average(as per title) - float\n",
    "12. Open_Parking\t-\t average(as per title) - float\n",
    "13. Ownership\t\t-    'No Info'\n"
   ]
  },
  {
   "cell_type": "code",
   "execution_count": 224,
   "id": "0fb1811a-7b0f-4f4e-b9b1-3cf720602031",
   "metadata": {},
   "outputs": [
    {
     "data": {
      "text/plain": [
       "Title                0\n",
       "Amount(in rupees)    0\n",
       "Location             0\n",
       "Carpet_Area          0\n",
       "Status               0\n",
       "Current_Floor        0\n",
       "Total_Floors         0\n",
       "Transaction          0\n",
       "Furnishing           0\n",
       "Facing               0\n",
       "Overlooking          0\n",
       "Bathroom             0\n",
       "Balcony              0\n",
       "Covered_Parking      0\n",
       "Open_Parking         0\n",
       "Ownership            0\n",
       "Super_Area           0\n",
       "dtype: int64"
      ]
     },
     "execution_count": 224,
     "metadata": {},
     "output_type": "execute_result"
    }
   ],
   "source": [
    "data.isna().sum()"
   ]
  },
  {
   "cell_type": "code",
   "execution_count": 107,
   "id": "bd7131fe-5fa0-4c3d-aa86-d240661518aa",
   "metadata": {},
   "outputs": [
    {
     "name": "stdout",
     "output_type": "stream",
     "text": [
      "<class 'pandas.core.frame.DataFrame'>\n",
      "Index: 64208 entries, 0 to 187530\n",
      "Data columns (total 17 columns):\n",
      " #   Column             Non-Null Count  Dtype  \n",
      "---  ------             --------------  -----  \n",
      " 0   Title              64208 non-null  object \n",
      " 1   Amount(in rupees)  64208 non-null  float64\n",
      " 2   location           64208 non-null  object \n",
      " 3   Carpet Area        64208 non-null  float64\n",
      " 4   Status             64208 non-null  object \n",
      " 5   Current_Floor      64208 non-null  int64  \n",
      " 6   Total_Floors       64208 non-null  int64  \n",
      " 7   Transaction        64208 non-null  object \n",
      " 8   Furnishing         64208 non-null  object \n",
      " 9   facing             64208 non-null  object \n",
      " 10  overlooking        64208 non-null  object \n",
      " 11  Bathroom           64208 non-null  int64  \n",
      " 12  Balcony            64208 non-null  int64  \n",
      " 13  Covered_Parking    64208 non-null  int64  \n",
      " 14  Open_Parking       64208 non-null  int64  \n",
      " 15  Ownership          64208 non-null  object \n",
      " 16  Super Area         64208 non-null  float64\n",
      "dtypes: float64(3), int64(6), object(8)\n",
      "memory usage: 8.8+ MB\n"
     ]
    }
   ],
   "source": [
    "data.info()"
   ]
  },
  {
   "cell_type": "code",
   "execution_count": 108,
   "id": "40bd57b7-8fb4-4717-b852-e0a1a697cbd6",
   "metadata": {},
   "outputs": [],
   "source": [
    "# column Names converstion into Camel case\n",
    "\n",
    "column_names = {'location': 'Location','facing':'Facing','overlooking':'Overlooking','Super Area':'Super_Area','Carpet Area':'Carpet_Area'}\n",
    "data.rename(columns=column_names,inplace = True)"
   ]
  },
  {
   "cell_type": "markdown",
   "id": "7e90224f-c755-4975-8f2f-87e8bb0dd5a9",
   "metadata": {},
   "source": [
    "### Saving clean data file"
   ]
  },
  {
   "cell_type": "code",
   "execution_count": 109,
   "id": "51e80514-0eaf-4f75-8479-e03249161b28",
   "metadata": {},
   "outputs": [],
   "source": [
    "data.to_csv('Clean_House_price_data.csv',index = False,sep = ',')"
   ]
  },
  {
   "cell_type": "code",
   "execution_count": null,
   "id": "d93fba1e-f466-4b11-a26e-5f99578aa48d",
   "metadata": {},
   "outputs": [],
   "source": []
  }
 ],
 "metadata": {
  "kernelspec": {
   "display_name": "Python [conda env:base] *",
   "language": "python",
   "name": "conda-base-py"
  },
  "language_info": {
   "codemirror_mode": {
    "name": "ipython",
    "version": 3
   },
   "file_extension": ".py",
   "mimetype": "text/x-python",
   "name": "python",
   "nbconvert_exporter": "python",
   "pygments_lexer": "ipython3",
   "version": "3.11.5"
  }
 },
 "nbformat": 4,
 "nbformat_minor": 5
}
